{
  "nbformat": 4,
  "nbformat_minor": 0,
  "metadata": {
    "colab": {
      "provenance": [],
      "authorship_tag": "ABX9TyMIcCiViyB/TNK32YU35E4W",
      "include_colab_link": true
    },
    "kernelspec": {
      "name": "python3",
      "display_name": "Python 3"
    },
    "language_info": {
      "name": "python"
    }
  },
  "cells": [
    {
      "cell_type": "markdown",
      "metadata": {
        "id": "view-in-github",
        "colab_type": "text"
      },
      "source": [
        "<a href=\"https://colab.research.google.com/github/rajan5639/Assignemnt_numpy/blob/main/Copy_of_NUMPy_Assignmen_4.ipynb\" target=\"_parent\"><img src=\"https://colab.research.google.com/assets/colab-badge.svg\" alt=\"Open In Colab\"/></a>"
      ]
    },
    {
      "cell_type": "markdown",
      "source": [
        "Q1.**Explain the purpose and advantages of NumPy in scientific computing and data analysis. How does it enhance Python's capabilities for numerical operations?**"
      ],
      "metadata": {
        "id": "df4xckX0ZfXF"
      }
    },
    {
      "cell_type": "code",
      "source": [
        "'''\n",
        "Numpy is a python Library which is used to evaluate/compute   the mathematical data either creating the\n",
        "Numpy array, Matrix , addition, subtraction, divison, no.of element in the list, their shape etc.\n",
        "\n",
        "It's a specalised Library , whose main goal/ aim to evaluate the mathematica data efficently/fastly/accurately.\n",
        "As we know c++ is the fastest programming  Language , and priority of c come after c++ , our numpy Library\n",
        "including the their module and package made by the c language. so its computaion speed much better than other\n",
        "data structure in python , who is able to store the data and capable to do mathematical operations Like list.\n",
        "\n",
        "Numpy store the data in the form of array ,as we know array store the homo genous data. to acces the data from\n",
        "the memory its quite easier beacuse data of numpy array store in contigious memory location.\n",
        "\n",
        "It is very usefull for scientific computing and data analysis:--\n",
        "[1] caluclating the mean of data to anylsie/ figure out the detail of data\n",
        "[2] caluclating the trignometry angle  to anylsie/ figure out dependence/ correlation bw the data going to  append in the model\n",
        "[3] sort the data\n",
        "[4] access any data / creating the random array to check the perform,ance of model\n",
        "\n",
        "\n",
        "etc.\n",
        "'''"
      ],
      "metadata": {
        "id": "BwB63eVcZdsO"
      },
      "execution_count": null,
      "outputs": []
    },
    {
      "cell_type": "markdown",
      "source": [
        "# 2. **Compare and contrast np.mean() and np.average() functions in NumPy. When would you use one over the other?**"
      ],
      "metadata": {
        "id": "kmroaZSheGFq"
      }
    },
    {
      "cell_type": "code",
      "source": [
        "'''\n",
        "both np.mean() and np.average() calculate the average(arthematic mean) of number\n",
        "\n",
        "but np.average() can calculte the  the averahe of weights\n",
        "\n",
        "but no.mean() can only calculate the mean of numerical number\n",
        "\n",
        "\n",
        "uses ->\n",
        "np.mean() -----> to evaluate the mean of number\n",
        "np.average() -----> to evaluate the mean of number with weights\n",
        "\n",
        "\n",
        "'''"
      ],
      "metadata": {
        "id": "YDYM6IrTZdox"
      },
      "execution_count": null,
      "outputs": []
    },
    {
      "cell_type": "markdown",
      "source": [
        " **Q3.Describe the methods for reversing a NumPy array\n",
        "along different axes. Provide examples for 1D and 2D\n",
        " arrays** ."
      ],
      "metadata": {
        "id": "Jq8i1PW5f32n"
      }
    },
    {
      "cell_type": "code",
      "source": [
        "'''\n",
        "to reverse the array we use the Numpy array , you can use the np.flip() method\n",
        "\n",
        "\n",
        "1D array :->\n",
        "'''\n",
        "arr = np.array([1,2,3,4,45])\n",
        "print(np.flip(arr))\n",
        "\n",
        "# 2D array :-->\n",
        "arr = np.array([[1,2,3],[4,5,6]])\n",
        "print(arr)\n",
        "print('\\n\\n')\n",
        "reversed_rows = np.flip(arr,axis = 0)  # reversing the row wise\n",
        "print(reversed_rows)\n",
        "print('\\n\\n')\n",
        "reversed_columns = np.flip(arr,axis = 1)  # reversing the column wise\n",
        "print(reversed_columns)\n",
        "\n"
      ],
      "metadata": {
        "colab": {
          "base_uri": "https://localhost:8080/"
        },
        "id": "j3MJJyyHZdnQ",
        "outputId": "8f2d4303-e294-49ec-c6ec-a89e9f9b0dc3"
      },
      "execution_count": null,
      "outputs": [
        {
          "output_type": "stream",
          "name": "stdout",
          "text": [
            "[45  4  3  2  1]\n",
            "[[1 2 3]\n",
            " [4 5 6]]\n",
            "\n",
            "\n",
            "\n",
            "[[4 5 6]\n",
            " [1 2 3]]\n",
            "\n",
            "\n",
            "\n",
            "[[3 2 1]\n",
            " [6 5 4]]\n"
          ]
        }
      ]
    },
    {
      "cell_type": "markdown",
      "source": [
        "4.**How can you determine the data type of elements in a NumPy array? Discuss the importance of data types in memory management and performance**"
      ],
      "metadata": {
        "id": "qcNNnM6_mgCb"
      }
    },
    {
      "cell_type": "code",
      "source": [
        "'''\n",
        "we calculate the datatype of np array\n",
        "type(np.array([---Data----]))\n",
        "\n",
        "It's a specalised Library , whose main goal/ aim to evaluate the mathematica data efficently/fastly/accurately.\n",
        "As we know c++ is the fastest programming  Language , and priority of c come after c++ , our numpy Library\n",
        "including the their module and package made by the c language. so its computaion speed much better than other\n",
        "data structure in python , who is able to store the data and capable to do mathematical operations Like list.\n",
        "\n",
        "Numpy store the data in the form of array ,as we know array store the homo genous data. to acces the data from\n",
        "the memory its quite easier beacuse data of numpy array store in contigious memory location.\n",
        "\n",
        "'''"
      ],
      "metadata": {
        "id": "yPhlwOS6Zdgu"
      },
      "execution_count": null,
      "outputs": []
    },
    {
      "cell_type": "markdown",
      "source": [
        "# Q5**.Define ndarrays in NumPy and explain their key features. How do they differ from standard Python lists?**"
      ],
      "metadata": {
        "id": "3oTk0z1voSIg"
      }
    },
    {
      "cell_type": "code",
      "source": [
        "'''\n",
        "ndarrays referse to the  number of dimension of array , which is basically arise when the programmer wanna to calculate the data type of Numpy\n",
        "Like type(np.array([---Data----]))\n",
        "\n",
        " A = np.array([[1,2,3,4], [23,5,6,9]])\n",
        " print(A)\n",
        " print(type(A))\n",
        "\n",
        "so to evaluate the number of dimension :\n",
        "np.array([1,2,3,4,5]).shape -> tells how many rows and columns\n",
        "\n",
        "Both python List and numpy used to store the data , but the differenec is List store the hetrogenous data and data is store in heap memory\n",
        "which is quite complex to the procesor to access the data from the memory due to hetrogenous in nature , data has not presen particular location\n",
        "\n",
        "* it requiore the more time and quite complex for the processor to deal their data\n",
        "\n",
        "while numpy array store the dta in the form of array ,as we know array store the homo genous data. to acces the data from\n",
        "the memory its quite easier beacuse data of numpy array store in contigious memory location.\n",
        "\n",
        "* * it requiore the less time and not  complex for the processor to deal numpy data data\n",
        "\n",
        "\n",
        "'''"
      ],
      "metadata": {
        "id": "b5Ktuls6ZddW"
      },
      "execution_count": null,
      "outputs": []
    },
    {
      "cell_type": "markdown",
      "source": [
        "# 6. **Analyze the performance benefits of NumPy arrays over Python lists for large-scale numerical operations.**"
      ],
      "metadata": {
        "id": "4ftKEHDfqtJ7"
      }
    },
    {
      "cell_type": "code",
      "source": [
        "'''\n",
        "As Numpy array is designed to deal with the major/minor operation of mathematical in programming language ,so Numpy array has a lot of benefit over List:\n",
        "1) easier to evaluta the  central tendency of data\n",
        "    * Mean , Mode , Median\n",
        "\n",
        "2) can easily  convert in to matric s0, we can anylise the ddata well\n",
        "\n",
        "3) having the Large scale data  and to evaluate/ compute operation --> numpy as much better and fastest way to compute\n",
        "\n",
        "4) havig a lot of function/formula/ method inside the Numpy array which make the progammer to be skilled for every operation\n",
        "\n",
        "5) we can reshape the data , according to aur requirement. for bettr understanding\n",
        "'''\n"
      ],
      "metadata": {
        "id": "uejEzfJTqpSo"
      },
      "execution_count": null,
      "outputs": []
    },
    {
      "cell_type": "markdown",
      "source": [
        "Q7.**Compare vstack() and hstack() functions in NumPy. Provide examples demonstrating their usage and output**"
      ],
      "metadata": {
        "id": "JVdJCUcesvFc"
      }
    },
    {
      "cell_type": "code",
      "source": [
        "'''\n",
        "Both vstack() and hstack() are NumPy functions used to stack arrays, but they differ in the way they stack them.\n",
        "\n",
        "vstack(): ---> stacks arrays vertically (row-wise), increasing the number of rows in the resultant array.\n",
        "            :--> store the (row -wise)data in vertically order\n",
        "'''\n",
        "a = np.array([1, 2, 3])\n",
        "b = np.array([4, 5, 6])\n",
        "print(np.vstack((a,b)))\n",
        "\n",
        "'''\n",
        "hstack()   :-> stacks arrays horizontally (column-wise), increasing the number of columns in the resultant array.\n",
        "           :->  store the (column -wise)data in horizontally order\n",
        "'''\n",
        "print('\\n\\n')\n",
        "a = np.array([[1], [2], [3]])\n",
        "b = np.array([[4], [5], [6]])\n",
        "print(np.hstack((a,b)))\n",
        "\n"
      ],
      "metadata": {
        "colab": {
          "base_uri": "https://localhost:8080/"
        },
        "id": "yMRjz7sLqpRF",
        "outputId": "8c3ca3a7-a1d6-4132-f8aa-5ea1577d43de"
      },
      "execution_count": null,
      "outputs": [
        {
          "output_type": "stream",
          "name": "stdout",
          "text": [
            "[[1 2 3]\n",
            " [4 5 6]]\n",
            "\n",
            "\n",
            "\n",
            "[[1 4]\n",
            " [2 5]\n",
            " [3 6]]\n"
          ]
        }
      ]
    },
    {
      "cell_type": "markdown",
      "source": [
        "# Q8.**Explain the differences between fliplr() and flipud() methods in NumPy, including their effects on various array dimensions.**"
      ],
      "metadata": {
        "id": "JuFwn2Z0u4J_"
      }
    },
    {
      "cell_type": "code",
      "source": [
        "'''\n",
        "Both np.fliplr() and np.flipud() are NumPy functions used to reverse the elements of an array, but they differ in the direction of reversal.\n",
        "np.fliplr() flips the entries in each row in the left/right direction. Columns are preserved, but appear in a different order than before.\n",
        "'''\n",
        "arr_2d = np.array([[1,2,3],[4,5,6]])\n",
        "print(np.fliplr(arr_2d))\n",
        "\n",
        "'''\n",
        "np.flipud() flips the entries in each column in the up/down direction. Rows are preserved, but appear in a different order than before.\n",
        "'''\n",
        "print('\\n\\n')\n",
        "arr_2d = np.array([[1,2,3],[4,5,6]])  # column has flip up/down direction\n",
        "print(np.flipud(arr_2d))\n"
      ],
      "metadata": {
        "colab": {
          "base_uri": "https://localhost:8080/"
        },
        "id": "Cdq1JtIgqpNV",
        "outputId": "5c0e4b35-8e9c-4513-a780-f52a37c79826"
      },
      "execution_count": null,
      "outputs": [
        {
          "output_type": "stream",
          "name": "stdout",
          "text": [
            "[[3 2 1]\n",
            " [6 5 4]]\n",
            "\n",
            "\n",
            "\n",
            "[[4 5 6]\n",
            " [1 2 3]]\n"
          ]
        }
      ]
    },
    {
      "cell_type": "markdown",
      "source": [
        "# **Q9.Discuss the functionality of the array_split() method in NumPy. How does it handle uneven split?**"
      ],
      "metadata": {
        "id": "ucrFLWqpw23m"
      }
    },
    {
      "cell_type": "code",
      "source": [
        "'''\n",
        "The array_split() method in NumPy is used to split an array into multiple sub-arrays.\n",
        "\n",
        "'''\n",
        "\n",
        "a = np.arange(8)\n",
        "print(a)\n",
        "print(np.array_split(a, 3))\n",
        "\n",
        "'''\n",
        "we are splitting the array in to 3 sub-parts\n",
        "\n",
        "In the above example, we split an array of 8 elements into 3 sub-arrays.\n",
        "If the array cannot be split evenly, the function distributes the elements as evenly as possible among the sub-arrays.\n",
        "The first several sub-arrays will have one more element than the remaining ones.\n",
        "'''\n",
        "print('\\n\\n')\n",
        "a = np.arange(16).reshape(4,4)\n",
        "print(a)\n",
        "\n",
        "print(np.array_split(a, 2, axis=1))\n"
      ],
      "metadata": {
        "colab": {
          "base_uri": "https://localhost:8080/"
        },
        "id": "a72lblNIqpLi",
        "outputId": "eb589bf3-2481-4cb8-be80-95d56efa4231"
      },
      "execution_count": null,
      "outputs": [
        {
          "output_type": "stream",
          "name": "stdout",
          "text": [
            "[0 1 2 3 4 5 6 7]\n",
            "[array([0, 1, 2]), array([3, 4, 5]), array([6, 7])]\n",
            "\n",
            "\n",
            "\n",
            "[[ 0  1  2  3]\n",
            " [ 4  5  6  7]\n",
            " [ 8  9 10 11]\n",
            " [12 13 14 15]]\n",
            "[array([[ 0,  1],\n",
            "       [ 4,  5],\n",
            "       [ 8,  9],\n",
            "       [12, 13]]), array([[ 2,  3],\n",
            "       [ 6,  7],\n",
            "       [10, 11],\n",
            "       [14, 15]])]\n"
          ]
        }
      ]
    },
    {
      "cell_type": "markdown",
      "source": [
        "**10. Explain the concepts ofvectorization and broadcasting in NumPy. How do they contribute to efficient array operations?**"
      ],
      "metadata": {
        "id": "QcH90WLM06bm"
      }
    },
    {
      "cell_type": "code",
      "source": [
        "'''\n",
        "Vectorization is the process of applying operations to entire arrays instead of individual elements.\n",
        "NumPy achieves this by leveraging optimized, low-level implementations written in C, which significantly speeds up computations.\n",
        "\n",
        "For example, to add two arrays a and b element-wise, instead of using a loop, you can simply write\n",
        "'''\n",
        "\n",
        "\n",
        "\n",
        "#NumPy handles the element-wise addition internally, without explicit looping in Python.\n",
        "'''\n",
        "Broadcasting extends vectorization by allowing arithmetic operations between arrays of different shapes, under certain conditions. NumPy automatically \"stretches\" the smaller array to match the shape of the larger array, enabling efficient element-wise operations without manual resizing or looping.\n",
        "\n",
        "For example, adding a scalar to an array:\n",
        "\n",
        "\n",
        "a = np.array([1, 2, 3])\n",
        "b = 2\n",
        "c = a + b  # Broadcasts b to match the shape of a\n",
        "'''\n",
        "\n",
        "'''\n",
        "Both vectorization and broadcasting eliminate the need for explicit Python loops, which are often performance bottlenecks.\n",
        "By leveraging optimized C implementations and automatic shape adjustments, NumPy enables concise and highly efficient array operations.\n",
        " This is crucial for numerical computations in data science, machine learning, and scientific computing, where large arrays are commonly processed.\n",
        "'''\n"
      ],
      "metadata": {
        "id": "cbg6SExRqpKP"
      },
      "execution_count": null,
      "outputs": []
    },
    {
      "cell_type": "code",
      "source": [
        "a = np.array([1, 2, 3])\n",
        "b = 2\n",
        "c = a + b  # Broadcasts b to match the shape of a\n",
        "print(c)\n",
        "\n",
        "Z = np.zeros((3,4))\n",
        "Z=Z+5\n",
        "print(Z)        # eg of broadcasting adding the element having different shape by element wise\n",
        "                # instead of loop wise\n",
        "                # matrix multiplication element wise"
      ],
      "metadata": {
        "colab": {
          "base_uri": "https://localhost:8080/"
        },
        "id": "lOJUCRXsHzOy",
        "outputId": "b6b10231-f747-4360-bb50-e24d09cf8c20"
      },
      "execution_count": null,
      "outputs": [
        {
          "output_type": "stream",
          "name": "stdout",
          "text": [
            "[3 4 5]\n"
          ]
        },
        {
          "output_type": "execute_result",
          "data": {
            "text/plain": [
              "array([5., 5., 5., 5., 5.])"
            ]
          },
          "metadata": {},
          "execution_count": 5
        }
      ]
    },
    {
      "cell_type": "markdown",
      "source": [
        "1. **Create a 3x3 NumPy array with random integers between 1 and 100. Then, interchange its rows and columns.**"
      ],
      "metadata": {
        "id": "bjFnxUHzvVA6"
      }
    },
    {
      "cell_type": "code",
      "execution_count": null,
      "metadata": {
        "id": "DDQ80XiOvCCe"
      },
      "outputs": [],
      "source": [
        "import numpy as np\n"
      ]
    },
    {
      "cell_type": "code",
      "source": [
        "arr = np.random.randint(1,101,(3,3))\n",
        "print(arr)"
      ],
      "metadata": {
        "colab": {
          "base_uri": "https://localhost:8080/"
        },
        "id": "zea4RBWevoGo",
        "outputId": "3bd50941-e721-400a-d770-0d37d1754b41"
      },
      "execution_count": null,
      "outputs": [
        {
          "output_type": "stream",
          "name": "stdout",
          "text": [
            "[[ 6 97 48]\n",
            " [41 68 71]\n",
            " [ 3 52 97]]\n"
          ]
        }
      ]
    },
    {
      "cell_type": "code",
      "source": [
        "arr.T"
      ],
      "metadata": {
        "colab": {
          "base_uri": "https://localhost:8080/"
        },
        "id": "HfRbptD_v0IN",
        "outputId": "c89d76f7-0d21-426c-9ae7-5f7a11ca7066"
      },
      "execution_count": null,
      "outputs": [
        {
          "output_type": "execute_result",
          "data": {
            "text/plain": [
              "array([[ 6, 41,  3],\n",
              "       [97, 68, 52],\n",
              "       [48, 71, 97]])"
            ]
          },
          "metadata": {},
          "execution_count": 5
        }
      ]
    },
    {
      "cell_type": "markdown",
      "source": [
        "2. **Generate a 1D NumPy array with 10 elements. Reshape it into a 2x5 array, then into a 5x2 array.**"
      ],
      "metadata": {
        "id": "d5nBUM4QwAsh"
      }
    },
    {
      "cell_type": "code",
      "source": [
        "Arr = np.random.random_sample(10)\n",
        "Arr"
      ],
      "metadata": {
        "colab": {
          "base_uri": "https://localhost:8080/"
        },
        "id": "kNHFWTZcx7ln",
        "outputId": "7c56f542-2d25-4af4-ee11-a2eab1e0a8ee"
      },
      "execution_count": null,
      "outputs": [
        {
          "output_type": "execute_result",
          "data": {
            "text/plain": [
              "array([0.6557655 , 0.51727114, 0.92260672, 0.28796992, 0.08769942,\n",
              "       0.18701023, 0.21812429, 0.22701224, 0.67419024, 0.66578736])"
            ]
          },
          "metadata": {},
          "execution_count": 28
        }
      ]
    },
    {
      "cell_type": "code",
      "source": [
        "Arr.reshape(2,5)"
      ],
      "metadata": {
        "colab": {
          "base_uri": "https://localhost:8080/"
        },
        "id": "jHIp6vmjyCvj",
        "outputId": "2068b01d-d581-45fb-9193-76f961ed40a7"
      },
      "execution_count": null,
      "outputs": [
        {
          "output_type": "execute_result",
          "data": {
            "text/plain": [
              "array([[0.09216363, 0.02002012, 0.43334184, 0.8371637 , 0.22815037],\n",
              "       [0.93162819, 0.49564685, 0.51444658, 0.6766604 , 0.12375474]])"
            ]
          },
          "metadata": {},
          "execution_count": 23
        }
      ]
    },
    {
      "cell_type": "code",
      "source": [
        "Arr.reshape(5*2)"
      ],
      "metadata": {
        "colab": {
          "base_uri": "https://localhost:8080/"
        },
        "id": "8keyeI_E0i-I",
        "outputId": "c901f13c-ea3e-4843-99a9-0e1abe9ac48a"
      },
      "execution_count": null,
      "outputs": [
        {
          "output_type": "execute_result",
          "data": {
            "text/plain": [
              "array([0.09216363, 0.02002012, 0.43334184, 0.8371637 , 0.22815037,\n",
              "       0.93162819, 0.49564685, 0.51444658, 0.6766604 , 0.12375474])"
            ]
          },
          "metadata": {},
          "execution_count": 24
        }
      ]
    },
    {
      "cell_type": "code",
      "source": [],
      "metadata": {
        "id": "oX8S_2gV0ncA"
      },
      "execution_count": null,
      "outputs": []
    },
    {
      "cell_type": "markdown",
      "source": [
        "3. *** Create a 4x4 NumPy array with random float values. Add a border of zeros\n",
        " around it, resulting in a 6x6 array.***"
      ],
      "metadata": {
        "id": "QyS-8ET20uP4"
      }
    },
    {
      "cell_type": "code",
      "source": [
        "Arr = np.random.rand(4,4)\n",
        "Arr"
      ],
      "metadata": {
        "colab": {
          "base_uri": "https://localhost:8080/"
        },
        "id": "AtxVsJfl0xcQ",
        "outputId": "20df2dc5-86b2-4510-951e-f2c8f8599685"
      },
      "execution_count": null,
      "outputs": [
        {
          "output_type": "execute_result",
          "data": {
            "text/plain": [
              "array([[0.91573336, 0.93531035, 0.00248969, 0.80743489],\n",
              "       [0.40730332, 0.77248381, 0.32788189, 0.62961259],\n",
              "       [0.79708205, 0.46762198, 0.57415967, 0.75621393],\n",
              "       [0.01942742, 0.14780546, 0.56467403, 0.3437501 ]])"
            ]
          },
          "metadata": {},
          "execution_count": 41
        }
      ]
    },
    {
      "cell_type": "code",
      "source": [
        "temp = np.zeros((6,6))\n",
        "temp"
      ],
      "metadata": {
        "colab": {
          "base_uri": "https://localhost:8080/"
        },
        "id": "hCMAtDq_1NfW",
        "outputId": "3d52d2e8-0aec-4e19-9e30-6bb39acff146"
      },
      "execution_count": null,
      "outputs": [
        {
          "output_type": "execute_result",
          "data": {
            "text/plain": [
              "array([[0., 0., 0., 0., 0., 0.],\n",
              "       [0., 0., 0., 0., 0., 0.],\n",
              "       [0., 0., 0., 0., 0., 0.],\n",
              "       [0., 0., 0., 0., 0., 0.],\n",
              "       [0., 0., 0., 0., 0., 0.],\n",
              "       [0., 0., 0., 0., 0., 0.]])"
            ]
          },
          "metadata": {},
          "execution_count": 42
        }
      ]
    },
    {
      "cell_type": "code",
      "source": [
        "temp[1:-1,1:-1] = Arr\n",
        "\n",
        "temp"
      ],
      "metadata": {
        "colab": {
          "base_uri": "https://localhost:8080/"
        },
        "id": "LGVWvd_J3OJp",
        "outputId": "a12d073a-ba14-4935-9449-49633b68f0a8"
      },
      "execution_count": null,
      "outputs": [
        {
          "output_type": "execute_result",
          "data": {
            "text/plain": [
              "array([[0.        , 0.        , 0.        , 0.        , 0.        ,\n",
              "        0.        ],\n",
              "       [0.        , 0.91573336, 0.93531035, 0.00248969, 0.80743489,\n",
              "        0.        ],\n",
              "       [0.        , 0.40730332, 0.77248381, 0.32788189, 0.62961259,\n",
              "        0.        ],\n",
              "       [0.        , 0.79708205, 0.46762198, 0.57415967, 0.75621393,\n",
              "        0.        ],\n",
              "       [0.        , 0.01942742, 0.14780546, 0.56467403, 0.3437501 ,\n",
              "        0.        ],\n",
              "       [0.        , 0.        , 0.        , 0.        , 0.        ,\n",
              "        0.        ]])"
            ]
          },
          "metadata": {},
          "execution_count": 43
        }
      ]
    },
    {
      "cell_type": "markdown",
      "source": [
        "4. **Using NumPy, create an array of integers from 10 to 60 with a step of 5.**"
      ],
      "metadata": {
        "id": "G6gkj07m5hry"
      }
    },
    {
      "cell_type": "code",
      "source": [
        "Arr = np.arange(10,60,5)\n",
        "Arr"
      ],
      "metadata": {
        "colab": {
          "base_uri": "https://localhost:8080/"
        },
        "id": "CcDomqFW4MCg",
        "outputId": "f9937774-1748-47f4-e401-96f21d089416"
      },
      "execution_count": null,
      "outputs": [
        {
          "output_type": "execute_result",
          "data": {
            "text/plain": [
              "array([10, 15, 20, 25, 30, 35, 40, 45, 50, 55])"
            ]
          },
          "metadata": {},
          "execution_count": 46
        }
      ]
    },
    {
      "cell_type": "markdown",
      "source": [
        "5. Create a NumPy array of strings ['python', 'numpy', 'pandas']. Apply different case transformations\n",
        "(uppercase, lowercase, title case, etc.) to each element."
      ],
      "metadata": {
        "id": "lc2AL0486SGr"
      }
    },
    {
      "cell_type": "code",
      "source": [
        "Arr = np.array(['python','numpy','pandas'])\n",
        "np.char.upper(Arr)"
      ],
      "metadata": {
        "colab": {
          "base_uri": "https://localhost:8080/"
        },
        "id": "GuQoQsGr6Hj6",
        "outputId": "e0f52c29-4184-4a51-a711-1095d1d7128c"
      },
      "execution_count": null,
      "outputs": [
        {
          "output_type": "execute_result",
          "data": {
            "text/plain": [
              "array(['PYTHON', 'NUMPY', 'PANDAS'], dtype='<U6')"
            ]
          },
          "metadata": {},
          "execution_count": 47
        }
      ]
    },
    {
      "cell_type": "code",
      "source": [
        "np.char.lower(Arr)"
      ],
      "metadata": {
        "colab": {
          "base_uri": "https://localhost:8080/"
        },
        "id": "1SZQkljp7CpP",
        "outputId": "ba3d8f21-01ca-40c2-878e-b7d034a98bde"
      },
      "execution_count": null,
      "outputs": [
        {
          "output_type": "execute_result",
          "data": {
            "text/plain": [
              "array(['python', 'numpy', 'pandas'], dtype='<U6')"
            ]
          },
          "metadata": {},
          "execution_count": 48
        }
      ]
    },
    {
      "cell_type": "code",
      "source": [
        "np.char.title(Arr)"
      ],
      "metadata": {
        "colab": {
          "base_uri": "https://localhost:8080/"
        },
        "id": "_CJkJIzn7F6o",
        "outputId": "766ec2bb-63c0-464e-c6ab-27a991ae1f54"
      },
      "execution_count": null,
      "outputs": [
        {
          "output_type": "execute_result",
          "data": {
            "text/plain": [
              "array(['Python', 'Numpy', 'Pandas'], dtype='<U6')"
            ]
          },
          "metadata": {},
          "execution_count": 49
        }
      ]
    },
    {
      "cell_type": "markdown",
      "source": [
        "**6.Generate a NumPy array of words. Insert a space between each character of every word in the array.**\n",
        "\n",
        "\n",
        "\n"
      ],
      "metadata": {
        "id": "xeOk8J0M7SfG"
      }
    },
    {
      "cell_type": "code",
      "source": [
        "\n"
      ],
      "metadata": {
        "colab": {
          "base_uri": "https://localhost:8080/"
        },
        "id": "rBbSiRl47JYQ",
        "outputId": "4028acd9-52c5-4ba1-de16-f19348cacb36"
      },
      "execution_count": null,
      "outputs": [
        {
          "output_type": "stream",
          "name": "stdout",
          "text": [
            "['h e l l o' 'w o r l d' 'n u m p y']\n"
          ]
        }
      ]
    },
    {
      "cell_type": "markdown",
      "source": [
        "7.**Create two 2D NumPy arrays and perform element-wise addition, subtraction, multiplication, and division.**"
      ],
      "metadata": {
        "id": "LvPmPlLE-vaM"
      }
    },
    {
      "cell_type": "code",
      "source": [
        "Arr1 = np.random.randint(10,100,(4,4), dtype = int)\n",
        "print(Arr1)\n"
      ],
      "metadata": {
        "colab": {
          "base_uri": "https://localhost:8080/"
        },
        "id": "Zu7R2jYE7yLh",
        "outputId": "95038d02-cee0-4727-b981-33df07cdb341"
      },
      "execution_count": null,
      "outputs": [
        {
          "output_type": "stream",
          "name": "stdout",
          "text": [
            "[[58 12 36 88]\n",
            " [69 46 73 55]\n",
            " [93 25 27 63]\n",
            " [41 88 23 71]]\n"
          ]
        }
      ]
    },
    {
      "cell_type": "code",
      "source": [
        "Arr2 = np.random.randint(10,100,(4,4), dtype = int)\n",
        "print(Arr2)"
      ],
      "metadata": {
        "colab": {
          "base_uri": "https://localhost:8080/"
        },
        "id": "rtZKcwm5-7d_",
        "outputId": "2c146bf0-22d2-498c-c07d-479c8a998bdb"
      },
      "execution_count": null,
      "outputs": [
        {
          "output_type": "stream",
          "name": "stdout",
          "text": [
            "[[17 97 74 84]\n",
            " [94 24 19 52]\n",
            " [57 63 28 63]\n",
            " [60 30 26 54]]\n"
          ]
        }
      ]
    },
    {
      "cell_type": "code",
      "source": [
        "Arr1 + Arr2"
      ],
      "metadata": {
        "colab": {
          "base_uri": "https://localhost:8080/"
        },
        "id": "a4hq_FfL_Z61",
        "outputId": "69904951-b545-4adb-c3eb-b220f0da7778"
      },
      "execution_count": null,
      "outputs": [
        {
          "output_type": "execute_result",
          "data": {
            "text/plain": [
              "array([[ 75, 109, 110, 172],\n",
              "       [163,  70,  92, 107],\n",
              "       [150,  88,  55, 126],\n",
              "       [101, 118,  49, 125]])"
            ]
          },
          "metadata": {},
          "execution_count": 70
        }
      ]
    },
    {
      "cell_type": "code",
      "source": [
        "Arr1-Arr2"
      ],
      "metadata": {
        "colab": {
          "base_uri": "https://localhost:8080/"
        },
        "id": "8yOc8tkx_kj5",
        "outputId": "f05a96fc-9742-43ca-d1e6-baf6b8b93847"
      },
      "execution_count": null,
      "outputs": [
        {
          "output_type": "execute_result",
          "data": {
            "text/plain": [
              "array([[ 41, -85, -38,   4],\n",
              "       [-25,  22,  54,   3],\n",
              "       [ 36, -38,  -1,   0],\n",
              "       [-19,  58,  -3,  17]])"
            ]
          },
          "metadata": {},
          "execution_count": 71
        }
      ]
    },
    {
      "cell_type": "code",
      "source": [
        "np.multiply(Arr1,Arr2)"
      ],
      "metadata": {
        "colab": {
          "base_uri": "https://localhost:8080/"
        },
        "id": "Q872DsxL_mpX",
        "outputId": "e46632ef-1081-4508-a24e-d7a9c7be474d"
      },
      "execution_count": null,
      "outputs": [
        {
          "output_type": "execute_result",
          "data": {
            "text/plain": [
              "array([[ 986, 1164, 2664, 7392],\n",
              "       [6486, 1104, 1387, 2860],\n",
              "       [5301, 1575,  756, 3969],\n",
              "       [2460, 2640,  598, 3834]])"
            ]
          },
          "metadata": {},
          "execution_count": 72
        }
      ]
    },
    {
      "cell_type": "code",
      "source": [
        "np.divide(Arr1,Arr2)"
      ],
      "metadata": {
        "colab": {
          "base_uri": "https://localhost:8080/"
        },
        "id": "S2pc4eGU_pPQ",
        "outputId": "626d14d3-a531-4825-9dd2-bd3d4e10632e"
      },
      "execution_count": null,
      "outputs": [
        {
          "output_type": "execute_result",
          "data": {
            "text/plain": [
              "array([[3.41176471, 0.12371134, 0.48648649, 1.04761905],\n",
              "       [0.73404255, 1.91666667, 3.84210526, 1.05769231],\n",
              "       [1.63157895, 0.3968254 , 0.96428571, 1.        ],\n",
              "       [0.68333333, 2.93333333, 0.88461538, 1.31481481]])"
            ]
          },
          "metadata": {},
          "execution_count": 73
        }
      ]
    },
    {
      "cell_type": "markdown",
      "source": [
        "**Q8.Use NumPy to create a 5x5 identity matrix, then extract its diagonal elements.**"
      ],
      "metadata": {
        "id": "Zj1oVOrW_zjj"
      }
    },
    {
      "cell_type": "code",
      "source": [
        "A = np.eye(5,5)\n",
        "A"
      ],
      "metadata": {
        "colab": {
          "base_uri": "https://localhost:8080/"
        },
        "id": "G9VyfgFm_sIW",
        "outputId": "c49f8f20-6db7-490c-96ee-fc68bc411b7e"
      },
      "execution_count": null,
      "outputs": [
        {
          "output_type": "execute_result",
          "data": {
            "text/plain": [
              "array([[1., 0., 0., 0., 0.],\n",
              "       [0., 1., 0., 0., 0.],\n",
              "       [0., 0., 1., 0., 0.],\n",
              "       [0., 0., 0., 1., 0.],\n",
              "       [0., 0., 0., 0., 1.]])"
            ]
          },
          "metadata": {},
          "execution_count": 75
        }
      ]
    },
    {
      "cell_type": "code",
      "source": [
        "diagonal = np.diag(A)\n",
        "diagonal"
      ],
      "metadata": {
        "colab": {
          "base_uri": "https://localhost:8080/"
        },
        "id": "WgtF8MXyAHjI",
        "outputId": "6934d1b0-ddae-40bb-caf0-0647535c7341"
      },
      "execution_count": null,
      "outputs": [
        {
          "output_type": "execute_result",
          "data": {
            "text/plain": [
              "array([1., 1., 1., 1., 1.])"
            ]
          },
          "metadata": {},
          "execution_count": 76
        }
      ]
    },
    {
      "cell_type": "markdown",
      "source": [
        "# Q9.**Generate a NumPy array of 100 random integers between 0 and 1000. Find and display all prime numbers in this array**"
      ],
      "metadata": {
        "id": "Xndyszx-Ahqg"
      }
    },
    {
      "cell_type": "code",
      "source": [
        "\n",
        "\n",
        "def is_prime(no):\n",
        "  if no==1:\n",
        "    return False\n",
        "  for i in range (2,no):\n",
        "    if no%i==0:\n",
        "      return False\n",
        "    else:\n",
        "      return True\n",
        "\n",
        "\n",
        "\n",
        "arr = np.random.randint(0,1000,100)\n",
        "prime_number = []\n",
        "for i in arr:\n",
        "  if is_prime(i):\n",
        "    prime_number.append(i)\n",
        "\n",
        "print(arr)\n",
        "print('\\n\\n\\n')\n",
        "\n",
        "Np = np.array(prime_number)\n",
        "np.sort(Np)\n",
        "print(Np)\n"
      ],
      "metadata": {
        "colab": {
          "base_uri": "https://localhost:8080/"
        },
        "id": "bVIR3i1PEdUB",
        "outputId": "4064bb85-9716-430b-f1eb-4d038c1acfb8"
      },
      "execution_count": null,
      "outputs": [
        {
          "output_type": "stream",
          "name": "stdout",
          "text": [
            "[418 729 506 130 855 559 863 195 620 879 166 113 601 943 929 599 125 965\n",
            " 201 416  65  49  77 549 513 718 363 613 472 718  10 458  87 630 907 229\n",
            "  40 216 705 690 251 259 317 889 331 791 954 955 655  24 349 949 535 578\n",
            " 463 704  41 326 674 162 394 356 142 841 117  89 253 934  75 642 520 366\n",
            " 835 537 277  95 619  83 735 952  58 411 226 615 162 473 335 817 919 223\n",
            " 574 571 532 685 926  94 449 842 810 290]\n",
            "\n",
            "\n",
            "\n",
            "\n",
            "[729 855 559 863 195 879 113 601 943 929 599 125 965 201  65  49  77 549\n",
            " 513 363 613  87 907 229 705 251 259 317 889 331 791 955 655 349 949 535\n",
            " 463  41 841 117  89 253  75 835 537 277  95 619  83 735 411 615 473 335\n",
            " 817 919 223 571 685 449]\n"
          ]
        }
      ]
    },
    {
      "cell_type": "markdown",
      "source": [
        "Q10.**Create a NumPy array representing daily temperatures for a month. Calculate and display the weekly averages.**"
      ],
      "metadata": {
        "id": "1TtVLsVpMR4-"
      }
    },
    {
      "cell_type": "code",
      "source": [
        "A = np.random.randint(15, 48,28)\n",
        "print(A)\n",
        "\n",
        "A.size"
      ],
      "metadata": {
        "colab": {
          "base_uri": "https://localhost:8080/"
        },
        "id": "gXhzDyo9JC4K",
        "outputId": "be5701d5-c861-4ac9-c930-f4c0311ce578"
      },
      "execution_count": null,
      "outputs": [
        {
          "output_type": "stream",
          "name": "stdout",
          "text": [
            "[37 17 25 34 29 15 29 37 36 22 42 19 31 19 29 20 31 37 32 41 30 23 34 28\n",
            " 38 33 37 38]\n"
          ]
        },
        {
          "output_type": "execute_result",
          "data": {
            "text/plain": [
              "28"
            ]
          },
          "metadata": {},
          "execution_count": 116
        }
      ]
    },
    {
      "cell_type": "code",
      "source": [
        "mat = np.matrix(A)\n",
        "mat\n",
        "print(mat.shape)\n",
        "\n",
        "mat = mat.reshape(4,7)\n",
        "\n",
        "print(mat.shape)"
      ],
      "metadata": {
        "colab": {
          "base_uri": "https://localhost:8080/"
        },
        "id": "6N2pFiEoPjEB",
        "outputId": "5429c148-e834-4dbf-b572-1d03910aa253"
      },
      "execution_count": null,
      "outputs": [
        {
          "output_type": "stream",
          "name": "stdout",
          "text": [
            "(1, 28)\n",
            "(4, 7)\n"
          ]
        }
      ]
    },
    {
      "cell_type": "code",
      "source": [
        "print(np.mean(mat[0]))\n",
        "print(np.mean(mat[1]))\n",
        "print(np.mean(mat[2]))\n",
        "print(np.mean(mat[3]))\n",
        "\n",
        "\n"
      ],
      "metadata": {
        "colab": {
          "base_uri": "https://localhost:8080/"
        },
        "id": "BEMADUKGRUXJ",
        "outputId": "44b88c13-e123-4f12-bad7-e2fe1c128023"
      },
      "execution_count": null,
      "outputs": [
        {
          "output_type": "stream",
          "name": "stdout",
          "text": [
            "26.571428571428573\n",
            "29.428571428571427\n",
            "31.428571428571427\n",
            "33.0\n"
          ]
        }
      ]
    },
    {
      "cell_type": "code",
      "source": [
        "for i in range(4):\n",
        "  print(i)"
      ],
      "metadata": {
        "colab": {
          "base_uri": "https://localhost:8080/"
        },
        "id": "EzQgVUAoSAcx",
        "outputId": "5bb4dffd-cae3-4015-dfe8-150abbd2ab5b"
      },
      "execution_count": null,
      "outputs": [
        {
          "output_type": "stream",
          "name": "stdout",
          "text": [
            "0\n",
            "1\n",
            "2\n",
            "3\n"
          ]
        }
      ]
    },
    {
      "cell_type": "code",
      "source": [],
      "metadata": {
        "id": "t_rXzDWKSVOP"
      },
      "execution_count": null,
      "outputs": []
    }
  ]
}