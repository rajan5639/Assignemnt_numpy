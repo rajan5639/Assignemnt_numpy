{
  "cells": [
    {
      "cell_type": "markdown",
      "metadata": {
        "id": "view-in-github",
        "colab_type": "text"
      },
      "source": [
        "<a href=\"https://colab.research.google.com/github/rajan5639/Assignemnt_numpy/blob/main/4ModulePW_Assignment_2.ipynb\" target=\"_parent\"><img src=\"https://colab.research.google.com/assets/colab-badge.svg\" alt=\"Open In Colab\"/></a>"
      ]
    },
    {
      "cell_type": "markdown",
      "metadata": {
        "id": "j6MihT9TCcvV"
      },
      "source": [
        "# **Q1 Discuss string slicing and provide the example**"
      ]
    },
    {
      "cell_type": "code",
      "execution_count": null,
      "metadata": {
        "colab": {
          "base_uri": "https://localhost:8080/",
          "height": 36
        },
        "id": "TWr4fWz9CD9M",
        "outputId": "b1c183bf-e2cb-49ce-cdb4-cdf7d8ad19af"
      },
      "outputs": [
        {
          "data": {
            "application/vnd.google.colaboratory.intrinsic+json": {
              "type": "string"
            },
            "text/plain": [
              "'SEGOSEG'"
            ]
          },
          "execution_count": 6,
          "metadata": {},
          "output_type": "execute_result"
        }
      ],
      "source": [
        "# string slicing is the process of allowing to access the selected portion of python by mentioning the start and end index, starting index will be  first index of the selected string while end index will be the (last -1 ) index of selected string\n",
        "# as we know that string is immutable we can't upgrade the string, but we can access random selected part odf string by string slicing\n",
        "\n",
        "\n",
        "str = 'GEEKSFORGEEKS'\n",
        "str[-1::-2]\n"
      ]
    },
    {
      "cell_type": "code",
      "execution_count": null,
      "metadata": {
        "colab": {
          "base_uri": "https://localhost:8080/",
          "height": 36
        },
        "id": "Kvv56bg1GGyW",
        "outputId": "61638faf-2d66-4633-9a35-b96166e7f380"
      },
      "outputs": [
        {
          "data": {
            "application/vnd.google.colaboratory.intrinsic+json": {
              "type": "string"
            },
            "text/plain": [
              "'P'"
            ]
          },
          "execution_count": 7,
          "metadata": {},
          "output_type": "execute_result"
        }
      ],
      "source": [
        "st = 'PhysicsWallha'\n",
        "\n",
        "#  the access the element through the indexing\n",
        "st[0]"
      ]
    },
    {
      "cell_type": "code",
      "execution_count": null,
      "metadata": {
        "colab": {
          "base_uri": "https://localhost:8080/",
          "height": 36
        },
        "id": "X5AH4uC0IhHp",
        "outputId": "8fdd9d9d-cd3f-4ebb-c5a2-4782a8f2bb82"
      },
      "outputs": [
        {
          "data": {
            "application/vnd.google.colaboratory.intrinsic+json": {
              "type": "string"
            },
            "text/plain": [
              "'PhysicsWallha'"
            ]
          },
          "execution_count": 8,
          "metadata": {},
          "output_type": "execute_result"
        }
      ],
      "source": [
        "# wanna to print entire string\n",
        "st"
      ]
    },
    {
      "cell_type": "code",
      "execution_count": null,
      "metadata": {
        "colab": {
          "base_uri": "https://localhost:8080/",
          "height": 36
        },
        "id": "9oe3HG3wImdO",
        "outputId": "0f085b17-81b1-424a-f633-859bd0295990"
      },
      "outputs": [
        {
          "data": {
            "application/vnd.google.colaboratory.intrinsic+json": {
              "type": "string"
            },
            "text/plain": [
              "'Physic'"
            ]
          },
          "execution_count": 9,
          "metadata": {},
          "output_type": "execute_result"
        }
      ],
      "source": [
        "# how can u print the selected string from 0 to 5th indexing withouth iterating the loop\n",
        "#so, here the concept of  slicing arise\n",
        "\n",
        "st[0:6] # first index is the starting index ---where last index is the (index-1) **i,e from 0 to 5"
      ]
    },
    {
      "cell_type": "code",
      "execution_count": null,
      "metadata": {
        "colab": {
          "base_uri": "https://localhost:8080/",
          "height": 36
        },
        "id": "5d_Z9wSOJFlJ",
        "outputId": "e2b5d82f-640a-4b9b-d350-7c0833eeb351"
      },
      "outputs": [
        {
          "data": {
            "application/vnd.google.colaboratory.intrinsic+json": {
              "type": "string"
            },
            "text/plain": [
              "'Pyisala'"
            ]
          },
          "execution_count": 10,
          "metadata": {},
          "output_type": "execute_result"
        }
      ],
      "source": [
        "# printin the sting at the jumping of two step\n",
        "st[0::2]"
      ]
    },
    {
      "cell_type": "code",
      "execution_count": null,
      "metadata": {
        "colab": {
          "base_uri": "https://localhost:8080/",
          "height": 36
        },
        "id": "fLyZBQKMJR4D",
        "outputId": "3edf6795-817d-4e4a-e94e-f7a613d6b40f"
      },
      "outputs": [
        {
          "data": {
            "application/vnd.google.colaboratory.intrinsic+json": {
              "type": "string"
            },
            "text/plain": [
              "'ahllaWscisyhP'"
            ]
          },
          "execution_count": 11,
          "metadata": {},
          "output_type": "execute_result"
        }
      ],
      "source": [
        "# reverse of strig\n",
        "st[-1::-1]"
      ]
    },
    {
      "cell_type": "code",
      "execution_count": null,
      "metadata": {
        "colab": {
          "base_uri": "https://localhost:8080/",
          "height": 36
        },
        "id": "TtZnigOHJfcc",
        "outputId": "f63a4c46-155e-4121-cbed-be75f9cd9025"
      },
      "outputs": [
        {
          "data": {
            "application/vnd.google.colaboratory.intrinsic+json": {
              "type": "string"
            },
            "text/plain": [
              "'alasiyP'"
            ]
          },
          "execution_count": 12,
          "metadata": {},
          "output_type": "execute_result"
        }
      ],
      "source": [
        "# revesre os string , with 2 step jumping\n",
        "st[-1::-2]"
      ]
    },
    {
      "cell_type": "code",
      "execution_count": null,
      "metadata": {
        "colab": {
          "base_uri": "https://localhost:8080/"
        },
        "id": "TOXoBEgEJoEE",
        "outputId": "83ce8113-d723-421e-894f-f4c6e18d7c18"
      },
      "outputs": [
        {
          "name": "stdout",
          "output_type": "stream",
          "text": [
            "SKEEGROFSKEEG\n",
            "GEEKSFORGEEKS\n"
          ]
        }
      ],
      "source": [
        "# String slicing\n",
        "String = 'GEEKSFORGEEKS'\n",
        "\n",
        "# Prints string in reverse\n",
        "print(String[::-1])\n",
        "\n",
        "print(String[:])  # by defaualt it take frstindex to 0 and last index to (n-1)"
      ]
    },
    {
      "cell_type": "code",
      "execution_count": null,
      "metadata": {
        "id": "MvZ-8UrVJ3Hj"
      },
      "outputs": [],
      "source": [
        "\n",
        "\n",
        "#----------------------------------**********************************************************************************-------------------------------------------------------------------------\n"
      ]
    },
    {
      "cell_type": "markdown",
      "metadata": {
        "id": "tnrh4HKfKh5-"
      },
      "source": [
        "# **Q2. Explain the key features of List in python**"
      ]
    },
    {
      "cell_type": "code",
      "execution_count": null,
      "metadata": {
        "id": "miAcl0i6KvGj"
      },
      "outputs": [],
      "source": [
        "# List is an Data Structure of Python , which contain homogenous and hetrogenous data.\n",
        "#List are Mutable and  upgradable.\n",
        "# it contain the data inside the block('[data/elemnt]')\n",
        "# It can expanad and shrink___> based on the user requirement\n",
        "\n",
        "\n",
        "# *************        key Feature of List    ************************"
      ]
    },
    {
      "cell_type": "code",
      "execution_count": null,
      "metadata": {
        "id": "otPH0r3DNRjq"
      },
      "outputs": [],
      "source": [
        "'''\n",
        " 1. List are ordered -> here when the data appen in the List, it will arranged in the ordered way.\n",
        " we can easy to access any data of List by the help of index, where the particular data has stored\n",
        "\n",
        " 2. List are Mutable --> we can easy to upgrade the List , either we can shrink or expand   i.e delete and append the elent in List\n",
        "\n",
        " 3. Homogenous/Hetrogenous -> we can store the homogenous as well as hetrogenous data in List\n",
        "\n",
        " 4. Iteration/Traversing -> Easy to iterate or traverse the List either by maintaing the Loop or using the concept of slicing string\n",
        "\n",
        " 5.we can calculate the Length------->Size of List by using the len() function\n",
        "\n",
        " 6. we can concatenate the two List either by adding the two List or using the List.extend() function\n",
        "\n",
        " 7. we can the sort the data inside the data in the List\n",
        "\n",
        "\n",
        "\n",
        "'''"
      ]
    },
    {
      "cell_type": "code",
      "execution_count": null,
      "metadata": {
        "id": "hmNr0gTLR-6Z"
      },
      "outputs": [],
      "source": [
        "\n",
        "\n",
        "\n",
        "\n"
      ]
    },
    {
      "cell_type": "markdown",
      "metadata": {
        "id": "eilkz85sSFvZ"
      },
      "source": [
        "# *** Q3. Expalin how to access , modifiy and delete the element in the List by using with example?.***"
      ]
    },
    {
      "cell_type": "code",
      "execution_count": null,
      "metadata": {
        "id": "7dLQrT9ESEin"
      },
      "outputs": [],
      "source": [
        "'''\n",
        "Access: is  the  method   to   iterate  the  particular  data  from   the  List\n",
        "List is the collection of data , where the elemnt are arranged/append in ordered way.\n",
        "for eg : List_1 =['rajan', 'Niharika', 'betu']\n",
        "to accses the rajan data from the List_1 , --------\n",
        "List_1[0]  ------>'rajan'\n",
        "\n",
        "Modify --> upgrade/update the data from the List  according to its requirement\n",
        "        even List can also extend / concatenete\n",
        "\n",
        "'''\n"
      ]
    },
    {
      "cell_type": "code",
      "execution_count": null,
      "metadata": {
        "colab": {
          "base_uri": "https://localhost:8080/",
          "height": 36
        },
        "id": "6MlZAau3UHrR",
        "outputId": "d9992808-f31e-45d4-9681-c94798e0e230"
      },
      "outputs": [
        {
          "data": {
            "application/vnd.google.colaboratory.intrinsic+json": {
              "type": "string"
            },
            "text/plain": [
              "'rajan'"
            ]
          },
          "execution_count": 20,
          "metadata": {},
          "output_type": "execute_result"
        }
      ],
      "source": [
        "List_1 = ['rajan', 'Niharika', 'betu', (2+3j), 5, \"5639\", 99.7]\n",
        "List_1[0]"
      ]
    },
    {
      "cell_type": "code",
      "execution_count": null,
      "metadata": {
        "colab": {
          "base_uri": "https://localhost:8080/"
        },
        "id": "1siP1cCJUbze",
        "outputId": "f27d98f0-51e5-4dc4-d9a2-9b3a3fdb32be"
      },
      "outputs": [
        {
          "data": {
            "text/plain": [
              "['rajan', 'Niharika', 'betu', (2+3j), 5, '5639', 99.7]"
            ]
          },
          "execution_count": 21,
          "metadata": {},
          "output_type": "execute_result"
        }
      ],
      "source": [
        "List_1"
      ]
    },
    {
      "cell_type": "code",
      "execution_count": null,
      "metadata": {
        "colab": {
          "base_uri": "https://localhost:8080/"
        },
        "id": "dXMsbARJUdxH",
        "outputId": "35dd2128-0ec3-4318-9c10-614699e9157f"
      },
      "outputs": [
        {
          "data": {
            "text/plain": [
              "['Harishchandra', 'Niharika', 'betu', (2+3j), 5, '5639', 99.7]"
            ]
          },
          "execution_count": 26,
          "metadata": {},
          "output_type": "execute_result"
        }
      ],
      "source": [
        "List_1[0] = 'Harishchandra'\n",
        "\n",
        "List_1"
      ]
    },
    {
      "cell_type": "code",
      "execution_count": null,
      "metadata": {
        "colab": {
          "base_uri": "https://localhost:8080/"
        },
        "id": "ISceuveLUf6v",
        "outputId": "4ac49f57-5f2d-496e-b928-a98e61fd81f1"
      },
      "outputs": [
        {
          "data": {
            "text/plain": [
              "['Harishchandra', 'Niharika', 'betu', (2+3j), 5, '5639', 99.7]"
            ]
          },
          "execution_count": 27,
          "metadata": {},
          "output_type": "execute_result"
        }
      ],
      "source": [
        "List_1[0:]"
      ]
    },
    {
      "cell_type": "code",
      "execution_count": null,
      "metadata": {
        "colab": {
          "base_uri": "https://localhost:8080/"
        },
        "id": "lQVhzlrNUrmE",
        "outputId": "24ab10a6-6d9b-4f73-b0a8-93c67f867725"
      },
      "outputs": [
        {
          "data": {
            "text/plain": [
              "['Harishchandra', 'betu', 5, 99.7]"
            ]
          },
          "execution_count": 28,
          "metadata": {},
          "output_type": "execute_result"
        }
      ],
      "source": [
        "List_1[0::2]   # jump at step of 2"
      ]
    },
    {
      "cell_type": "code",
      "execution_count": null,
      "metadata": {
        "colab": {
          "base_uri": "https://localhost:8080/"
        },
        "id": "y8IkHpb3UuDF",
        "outputId": "0c88c541-2f0d-4e84-b599-c9b9eca86278"
      },
      "outputs": [
        {
          "data": {
            "text/plain": [
              "[99.7, '5639', 5, (2+3j), 'betu', 'Niharika', 'Harishchandra']"
            ]
          },
          "execution_count": 29,
          "metadata": {},
          "output_type": "execute_result"
        }
      ],
      "source": [
        "List_1[::-1]  # iterating in the reverse direction"
      ]
    },
    {
      "cell_type": "code",
      "execution_count": null,
      "metadata": {
        "colab": {
          "base_uri": "https://localhost:8080/"
        },
        "id": "XVpuiwk8U8en",
        "outputId": "d7c0eb68-25ee-4f5e-cffd-3c4e89a8fe87"
      },
      "outputs": [
        {
          "data": {
            "text/plain": [
              "['Harishchandra', 'Niharika', 'betu', (2+3j), 5, '5639', 99.7]"
            ]
          },
          "execution_count": 30,
          "metadata": {},
          "output_type": "execute_result"
        }
      ],
      "source": [
        "List_1"
      ]
    },
    {
      "cell_type": "code",
      "execution_count": null,
      "metadata": {
        "colab": {
          "base_uri": "https://localhost:8080/"
        },
        "id": "7KHHy-cIVjn-",
        "outputId": "972a2949-1750-45a7-dcf6-34ca1883dfb8"
      },
      "outputs": [
        {
          "name": "stdout",
          "output_type": "stream",
          "text": [
            "['Harishchandra', 'Niharika', 'betu', (2+3j), 5, '5639', 99.7, 'raj', 'sanj', 'Major deep singh']\n"
          ]
        }
      ],
      "source": [
        "List_1 = ['Harishchandra', 'Niharika', 'betu', (2+3j), 5, '5639', 99.7]\n",
        "\n",
        "List_2 = ['raj','sanj', 'Major deep singh']\n",
        "# Now we are extend oue List/ concatenate\n",
        "List_1.extend(List_2)\n",
        "\n",
        "print(List_1)"
      ]
    },
    {
      "cell_type": "code",
      "execution_count": null,
      "metadata": {
        "colab": {
          "base_uri": "https://localhost:8080/"
        },
        "id": "fa9rUYSWVrae",
        "outputId": "f27f1646-4d19-42ea-9213-acf73c0b3521"
      },
      "outputs": [
        {
          "name": "stdout",
          "output_type": "stream",
          "text": [
            "['Harishchandra', 'Niharika', 'betu', (2+3j), 5, '5639', 99.7]\n",
            "['raj', 'sanj', 'Major deep singh']\n"
          ]
        }
      ],
      "source": [
        "List_1 = ['Harishchandra', 'Niharika', 'betu', (2+3j), 5, '5639', 99.7]\n",
        "\n",
        "List_2 = ['raj','sanj', 'Major deep singh']\n",
        "List_1+List_2\n",
        "\n",
        "print(List_1)\n",
        "print(List_2)"
      ]
    },
    {
      "cell_type": "code",
      "execution_count": null,
      "metadata": {
        "colab": {
          "base_uri": "https://localhost:8080/"
        },
        "id": "xVR8rQ5LVzZG",
        "outputId": "f6cbf8b3-a19a-4a16-8cfb-a8f186830b97"
      },
      "outputs": [
        {
          "name": "stdout",
          "output_type": "stream",
          "text": [
            "['Radha Rani', 'sanj', 'Major deep singh']\n",
            "['Radha Rani', 'sanj', 'Major deep singh']\n",
            "Hanuman Ji\n",
            "Radha Rani\n"
          ]
        }
      ],
      "source": [
        "# shallow or deep copy of Lsit\n",
        "List_1= List_2\n",
        "\n",
        "print(List_1)\n",
        "print(List_2)\n",
        "\n",
        "List_1[0] = 'Radha Rani'\n",
        "List_2[0]     # shallow copy\n",
        "List_1[0]\n",
        "\n",
        "#****************deep copy**********\n",
        "List_1 = List_2.copy()\n",
        "List_1[0]='Hanuman Ji'\n",
        "\n",
        "print(List_1[0])\n",
        "print(List_2[0])\n",
        "\n"
      ]
    },
    {
      "cell_type": "code",
      "execution_count": null,
      "metadata": {
        "colab": {
          "base_uri": "https://localhost:8080/"
        },
        "id": "5AvDGmawV_ju",
        "outputId": "08e82388-dbcf-4fff-826e-49a564cafb91"
      },
      "outputs": [
        {
          "name": "stdout",
          "output_type": "stream",
          "text": [
            "['Lalu', 'Modi', 'chirag paswan']\n",
            "['parliament of house member', 'Lalu', 'Modi', 'chirag paswan']\n"
          ]
        }
      ],
      "source": [
        "#    adding / deleting the element from List\n",
        "List_1 =[]\n",
        "List_1.append('Lalu')\n",
        "List_1.append('Modi')\n",
        "List_1.append('chirag paswan')\n",
        "\n",
        "print(List_1)\n",
        "# insert_at _ position\n",
        "List_1.insert(0, 'parliament of house member')\n",
        "print(List_1)"
      ]
    },
    {
      "cell_type": "code",
      "execution_count": null,
      "metadata": {
        "colab": {
          "base_uri": "https://localhost:8080/",
          "height": 36
        },
        "id": "aFcpTJfCZbfE",
        "outputId": "e135c102-7cdb-4dca-a9ab-eb117628e1f2"
      },
      "outputs": [
        {
          "data": {
            "application/vnd.google.colaboratory.intrinsic+json": {
              "type": "string"
            },
            "text/plain": [
              "'chirag paswan'"
            ]
          },
          "execution_count": 53,
          "metadata": {},
          "output_type": "execute_result"
        }
      ],
      "source": [
        "List_1 = ['parliament of house member', 'Lalu', 'Modi', 'chirag paswan']\n",
        "List_1.pop()"
      ]
    },
    {
      "cell_type": "code",
      "execution_count": null,
      "metadata": {
        "colab": {
          "base_uri": "https://localhost:8080/"
        },
        "id": "tPl4ABi7aKsq",
        "outputId": "e3d9cd58-5223-4586-e5ed-52ddcc415bb4"
      },
      "outputs": [
        {
          "data": {
            "text/plain": [
              "['parliament of house member', 'Lalu', 'Modi']"
            ]
          },
          "execution_count": 54,
          "metadata": {},
          "output_type": "execute_result"
        }
      ],
      "source": [
        "List_1"
      ]
    },
    {
      "cell_type": "code",
      "execution_count": null,
      "metadata": {
        "colab": {
          "base_uri": "https://localhost:8080/",
          "height": 36
        },
        "id": "3FMeoUL_anvJ",
        "outputId": "fdc365f3-2de8-46d5-af03-1d9ae4369295"
      },
      "outputs": [
        {
          "data": {
            "application/vnd.google.colaboratory.intrinsic+json": {
              "type": "string"
            },
            "text/plain": [
              "'parliament of house member'"
            ]
          },
          "execution_count": 55,
          "metadata": {},
          "output_type": "execute_result"
        }
      ],
      "source": [
        "List_1.pop(0)"
      ]
    },
    {
      "cell_type": "code",
      "execution_count": null,
      "metadata": {
        "colab": {
          "base_uri": "https://localhost:8080/"
        },
        "id": "uze_EHwAar8k",
        "outputId": "807c5452-ce42-4618-ae0f-74df7c8c0cb1"
      },
      "outputs": [
        {
          "data": {
            "text/plain": [
              "['Lalu', 'Modi']"
            ]
          },
          "execution_count": 56,
          "metadata": {},
          "output_type": "execute_result"
        }
      ],
      "source": [
        "List_1"
      ]
    },
    {
      "cell_type": "code",
      "execution_count": null,
      "metadata": {
        "id": "fcrZzoCAatgV"
      },
      "outputs": [],
      "source": [
        "\n",
        "\n",
        "#-----------------------------------------------------------*************************************************************************----------------------------------\n"
      ]
    },
    {
      "cell_type": "markdown",
      "metadata": {
        "id": "zffhvczqbCQQ"
      },
      "source": [
        "# **Q4. Compare and contrast the tuple with example**"
      ]
    },
    {
      "cell_type": "code",
      "execution_count": null,
      "metadata": {
        "colab": {
          "base_uri": "https://localhost:8080/"
        },
        "id": "2lMMFC3qa-5W",
        "outputId": "931531e1-d663-4a8c-c252-e27cb740e3bf"
      },
      "outputs": [
        {
          "data": {
            "text/plain": [
              "6"
            ]
          },
          "execution_count": 61,
          "metadata": {},
          "output_type": "execute_result"
        }
      ],
      "source": [
        "'''\n",
        "Tupple : is a dataStructure of Python , which contain homogenous and hetrogenous data.\n",
        "It is immutable ---> can't upgrade or can't shrink\n",
        "\n",
        "here data store permantly , which will not delete untill user delete the tupple\n",
        "\n",
        "In data structure Like ,, List and  dictionary --> we are able to upgrade because they are mutabale , while tupple is immutable\n",
        "tupple is very important to store the autheticated verified data of  a person either from govt. or directiory beacuse once it generate , it will not upgrade\n",
        "eg: Adhar Card (once it created , its number neither will cahnge nor will expand , it will throughout the journey of a person till death)\n",
        "eg: DNA (From a person born to die , DNA will not change, it will remain same)\n",
        "eg: Account_NUMber(after opening the account , the account number will not be changed )\n",
        "eg : pancard NUMber(when the income tax generate the pan numbre ,once it created , its number neither will cahnge nor will expand)\n",
        "\n",
        "\n",
        "so , to store all these reliable and trustworthy information , Tupple data Structure is highly recommendable due to the nature of immutablity\n",
        "\n",
        "'''"
      ]
    },
    {
      "cell_type": "code",
      "execution_count": null,
      "metadata": {
        "colab": {
          "base_uri": "https://localhost:8080/"
        },
        "id": "jMI7BfkPgLnJ",
        "outputId": "2b7eefde-6871-4b8d-bc81-d852de286013"
      },
      "outputs": [
        {
          "data": {
            "text/plain": [
              "{'Adhar card': (123334553, 9987978765, 985643646),\n",
              " 'Account_no': (54546746, 856474, 94567558),\n",
              " 'DNA': ('T', 'U', 'r'),\n",
              " 'PAN_NO': ('D46765', 'Y78767', 'R86787')}"
            ]
          },
          "execution_count": 63,
          "metadata": {},
          "output_type": "execute_result"
        }
      ],
      "source": [
        "Tp = {'Adhar card':(123334553, 9987978765, 985643646), 'Account_no': (54546746, 856474,94567558), 'DNA':('T', 'U',\"r\"), 'PAN_NO' : ('D46765', 'Y78767', 'R86787')}\n",
        "Tp"
      ]
    },
    {
      "cell_type": "code",
      "execution_count": null,
      "metadata": {
        "colab": {
          "base_uri": "https://localhost:8080/"
        },
        "id": "mvh2xlIhyFUM",
        "outputId": "a696d33a-192e-47c1-d1a4-6e9e41c5557e"
      },
      "outputs": [
        {
          "data": {
            "text/plain": [
              "(123334553, 9987978765, 985643646)"
            ]
          },
          "execution_count": 64,
          "metadata": {},
          "output_type": "execute_result"
        }
      ],
      "source": [
        "Tp['Adhar card']"
      ]
    },
    {
      "cell_type": "code",
      "execution_count": null,
      "metadata": {
        "colab": {
          "base_uri": "https://localhost:8080/",
          "height": 141
        },
        "id": "LogYfGZuyWJA",
        "outputId": "9dd9ee0c-872f-4003-9092-2c14f16e7a9a"
      },
      "outputs": [
        {
          "ename": "TypeError",
          "evalue": "'tuple' object does not support item assignment",
          "output_type": "error",
          "traceback": [
            "\u001b[0;31m---------------------------------------------------------------------------\u001b[0m",
            "\u001b[0;31mTypeError\u001b[0m                                 Traceback (most recent call last)",
            "\u001b[0;32m<ipython-input-66-ad088c051fa7>\u001b[0m in \u001b[0;36m<cell line: 1>\u001b[0;34m()\u001b[0m\n\u001b[0;32m----> 1\u001b[0;31m \u001b[0mTp\u001b[0m\u001b[0;34m[\u001b[0m\u001b[0;34m'Adhar card'\u001b[0m\u001b[0;34m]\u001b[0m\u001b[0;34m[\u001b[0m\u001b[0;36m0\u001b[0m\u001b[0;34m]\u001b[0m \u001b[0;34m=\u001b[0m \u001b[0;36m878374\u001b[0m    \u001b[0;31m# Adhard card number will not cahnge ....Immutablity\u001b[0m\u001b[0;34m\u001b[0m\u001b[0;34m\u001b[0m\u001b[0m\n\u001b[0m",
            "\u001b[0;31mTypeError\u001b[0m: 'tuple' object does not support item assignment"
          ]
        }
      ],
      "source": [
        "Tp['Adhar card'][0] = 878374    # Adhard card number will not cahnge ....Immutablity"
      ]
    },
    {
      "cell_type": "code",
      "execution_count": null,
      "metadata": {
        "id": "AGsL0Qz7yezK"
      },
      "outputs": [],
      "source": [
        "\n",
        "\n"
      ]
    },
    {
      "cell_type": "markdown",
      "metadata": {
        "id": "VlQUAsL98DRi"
      },
      "source": [
        " # **Q5. Describe the use case of tupple and set in programming?**"
      ]
    },
    {
      "cell_type": "code",
      "execution_count": null,
      "metadata": {
        "id": "NBaNNOYN8ChL"
      },
      "outputs": [],
      "source": [
        "'''\n",
        "speech competition"
      ]
    },
    {
      "cell_type": "code",
      "source": [
        "\n",
        "enroll = ('0131cl221082','0131cl221084','0131cl221085','0131cl221089','0192876R', '0996543B' )\n",
        "Lt  = ['rajendra', 'surendra', 'Harishchandra','dhanajay','snajay']\n",
        "topic =['Life of forest', 'corruption', 'demonitization','Social life', 'Rural area']\n",
        "seat_no= ('A12', 'B13', 'C24', 'D43', 'G58')\n",
        "password =('2003A', '2004A', '2005C', '2006D', '2008Y')\n",
        "\n",
        "dict_official = {password[0]:[ Lt[0],enroll[0],  seat_no[0],topic[0]], password[1]: [Lt[1],enroll[1],  seat_no[1],topic[1]],password[2]: [Lt[2],enroll[2],  seat_no[2],topic[2]],password[3]: [Lt[3],enroll[3],  seat_no[3],topic[3]],password[4]: [Lt[4],enroll[4],  seat_no[4],topic[4]]}"
      ],
      "metadata": {
        "id": "hmVccipbbhak"
      },
      "execution_count": null,
      "outputs": []
    },
    {
      "cell_type": "code",
      "execution_count": null,
      "metadata": {
        "id": "7yRarjVC_D0k",
        "colab": {
          "base_uri": "https://localhost:8080/"
        },
        "outputId": "04fbbd24-de2d-4c45-8372-553a1fda2d2e"
      },
      "outputs": [
        {
          "output_type": "stream",
          "name": "stdout",
          "text": [
            "\n",
            " [1]      read instruction carefully\n",
            "\n",
            " [2]      I hope u all are comfartable\n",
            "\n",
            " [3]      no phone/ other device allowed\n",
            "\n",
            " [4]      not allow to nevegate as web-cam will be start\n",
            "\n",
            " [5]      u have to finished ur speech with consiely manner so other partcipant also get oppurtinuity to perform\n",
            "\n",
            " [6]      if U gone aginst the instruction / i will not allow top appear in exam\n",
            "\n",
            "\n",
            "\n",
            "carefully and politely perform the debate \n",
            "\n",
            "\n",
            "\n",
            "After  reading All the Terms and condition , Are u comfartable with us\n",
            "\n",
            "\n",
            " \n",
            "Yes/Noy\n",
            "\n",
            "\n",
            "\n",
            "enter the Password\n",
            "\n",
            "\n",
            "2003A\n",
            "match all the relevant information carefully ***************\t***************  :  \n",
            "\n",
            "Name      :       rajendra\n",
            "\n",
            "Enroll No :      0131cl221082\n",
            "\n",
            "Seat No   :       A12\n",
            "\n",
            "Topic     :       Life of forest\n",
            " Maximum time of speech is 5min\n"
          ]
        }
      ],
      "source": [
        "print('\\n [1]      read instruction carefully')\n",
        "print('\\n [2]      I hope u all are comfartable')\n",
        "print('\\n [3]      no phone/ other device allowed')\n",
        "print('\\n [4]      not allow to nevegate as web-cam will be start')\n",
        "print('\\n [5]      u have to finished ur speech with consiely manner so other partcipant also get oppurtinuity to perform')\n",
        "print('\\n [6]      if U gone aginst the instruction / i will not allow top appear in exam')\n",
        "\n",
        "print('\\n\\n\\ncarefully and politely perform the debate ')\n",
        "\n",
        "print('\\n\\n\\nAfter  reading All the Terms and condition , Are u comfartable with us\\n\\n\\n ')\n",
        "check = input('Yes/No')\n",
        "if(check == 'Y' or check == 'y'):\n",
        "  pw = input('\\n\\n\\nenter the Password\\n\\n\\n')\n",
        "  if(pw in password):\n",
        "    print('match all the relevant information carefully ***************\\t***************  :  ')\n",
        "    print(\"\\nName      :      \", dict_official[pw][0])\n",
        "    print(\"\\nEnroll No :     \", dict_official[pw][1])\n",
        "    print(\"\\nSeat No   :      \", dict_official[pw][2])\n",
        "    print(\"\\nTopic     :      \", dict_official[pw][3])\n",
        "    print(' Maximum time of speech is 5min')\n",
        "\n",
        "  else:\n",
        "    print('soory , we are unable to recognise u !  |Kindly  consult with the faculty')\n",
        "\n",
        "\n",
        "\n",
        "\n",
        "\n",
        "\n",
        "\n"
      ]
    },
    {
      "cell_type": "code",
      "execution_count": null,
      "metadata": {
        "colab": {
          "base_uri": "https://localhost:8080/"
        },
        "id": "ofzhOlXvHrOC",
        "outputId": "12721f9b-abfd-4425-962f-31f005ab2068"
      },
      "outputs": [
        {
          "output_type": "stream",
          "name": "stdout",
          "text": [
            "enter the roll number5\n",
            "Number of assignment , you have submit the assignment, out of 5\n",
            "Name    :     Sonam\n",
            "Math    :     2\n",
            "English :     5\n",
            "Science :     4\n",
            "Physics :     3\n",
            "\n",
            "\n",
            "\n",
            " Do u Wanna to submit any assignmet\n",
            "Enter the subjectp\n",
            "How many assignment u want to submit2\n",
            "Thanks for submit the assignment!!        :   Sonam\n",
            "Total PhysicseAssignhmnet                     :     5\n",
            "Sonam    you have submited all the Science assignment\n"
          ]
        }
      ],
      "source": [
        "#*********************************Pass/Fail in exam use case******************************************************************\n",
        "Not_submit   =   {6,7,8,9,10}\n",
        "Submit   =       [1,2,3,4,5]\n",
        "\n",
        "dictt  =   {Submit[0] : ['Rajan', 3,2,4,5], Submit[1] :['Ram', 3,3,3,4], Submit[2] :['pranve', 2,4,4,2], Submit[3] :['Asgard', 5,4,3,2], Submit[4] :['Sonam', 2,5,4,3]}\n",
        "\n",
        "roll = int(input('enter the roll number'))\n",
        "if(roll == Not_submit):\n",
        "  print('These student are black List in any activity of college')\n",
        "\n",
        "else:\n",
        "  print('Number of assignment , you have submit the assignment, out of 5')\n",
        "  print('Name    :    ', dictt[roll][0])\n",
        "  print('Math    :    ', dictt[roll][1])\n",
        "  print('English :    ', dictt[roll][2])\n",
        "  print('Science :    ', dictt[roll][3])\n",
        "  print('Physics :    ', dictt[roll][4])\n",
        "\n",
        "  print('\\n\\n\\n Do u Wanna to submit any assignmet')\n",
        "  subj = input('Enter the subject')\n",
        "  if(subj[0] == 'M' or subj[0]=='m'):\n",
        "    no = int(input('How many assignment u want to submit'))\n",
        "    if(dictt[roll][1]+no > 5):\n",
        "      print('U have to submit total 5 assignment')\n",
        "    else:\n",
        "      dictt[roll][1] = dictt[roll][1]+no\n",
        "      print('Thanks for submit the assignment!!        :  ' ,dictt[roll][0])\n",
        "      print('Total MathAssignhmnet                     :    ', dictt[roll][1])\n",
        "      if(dictt[roll][1] - 5 == 0):\n",
        "        print(dictt[roll][0] , '   you have submited all the math assignment')\n",
        "      else:\n",
        "        print(' only ', 5-dictt[roll][1], 'assignment left to submit')\n",
        "\n",
        "  elif(subj[0] == 'E' or subj[0]=='e'):\n",
        "    no = int(input('How many assignment u want to submit'))\n",
        "    if(dictt[roll][2]+no > 5):\n",
        "      print('U have to submit total 5 assignment')\n",
        "    else:\n",
        "      dictt[roll][2] = dictt[roll][2]+no\n",
        "      print('Thanks for submit the assignment!!        :  ' ,dictt[roll][0])\n",
        "      print('Total MathAssignhmnet                     :    ', dictt[roll][2])\n",
        "      if(dictt[roll][2] - 5 == 0):\n",
        "        print(dictt[roll][0] , '   you have submited all the english assignment')\n",
        "      else :\n",
        "         print(' only ', 5-dictt[roll][2], 'assignment left to submit')\n",
        "\n",
        "\n",
        "  elif(subj[0] == 'S' or subj[0]=='s'):\n",
        "\n",
        "    no = int(input('How many assignment u want to submit'))\n",
        "    if(dictt[roll][3]+no > 5):\n",
        "      print('U have to submit total 5 assignment')\n",
        "    else:\n",
        "      dictt[roll][3] = dictt[roll][3]+no\n",
        "      print('Thanks for submit the assignment!!        :  ' ,dictt[roll][0])\n",
        "      print('Total ScienceAssignhmnet                     :    ',dictt[roll][3])\n",
        "      if(dictt[roll][3] - 5 == 0):\n",
        "        print(dictt[roll][0] , '   you have submited all the Science assignment')\n",
        "      else :\n",
        "         print(' only ', 5-dictt[roll][3], 'assignment left to submit')\n",
        "\n",
        "  elif(subj[0] == 'P' or subj[0]=='p'):\n",
        "\n",
        "    no = int(input('How many assignment u want to submit'))\n",
        "    if(dictt[roll][4]+no > 5):\n",
        "      print('U have to submit total 5 assignment')\n",
        "    else:\n",
        "      dictt[roll][4] = dictt[roll][4]+no\n",
        "      print('Thanks for submit the assignment!!        :  ' ,dictt[roll][0])\n",
        "      print('Total PhysicseAssignhmnet                     :    ',dictt[roll][4])\n",
        "      if(dictt[roll][4] - 5 == 0):\n",
        "        print(dictt[roll][0] , '   you have submited all the Physics assignment')\n",
        "      else :\n",
        "         print(' only ', 5-dictt[roll][4], 'assignment left to submit')\n",
        "\n",
        "\n",
        "\n",
        "\n",
        "\n",
        "\n",
        "\n",
        "\n",
        "\n",
        "\n",
        "\n",
        "\n",
        "\n",
        "\n",
        "\n",
        "\n",
        "\n",
        "\n",
        "\n"
      ]
    },
    {
      "cell_type": "code",
      "execution_count": null,
      "metadata": {
        "id": "vZLFKpZGCHFi"
      },
      "outputs": [],
      "source": [
        "\n",
        "roll = int(input('enter  ur  roll   number'))\n",
        "if(roll in Fail):\n",
        "  print('you are fail')\n",
        "\n",
        "else :\n",
        "\n",
        "\n"
      ]
    },
    {
      "cell_type": "code",
      "execution_count": null,
      "metadata": {
        "id": "dvTxE0QK-zMZ"
      },
      "outputs": [],
      "source": [
        "\n",
        "\n",
        "\n",
        "\n",
        "\n"
      ]
    },
    {
      "cell_type": "code",
      "source": [
        "#No, you cannot actually add a list to a set since lists are mutable and unhashable objects, and sets are immutable and do not accept unhashable objects.\n",
        "st = {12}\n",
        "lt = [1,2,3,4,5]\n",
        "st.add(lt)\n"
      ],
      "metadata": {
        "id": "unokeZvOZeIS"
      },
      "execution_count": null,
      "outputs": []
    },
    {
      "cell_type": "code",
      "source": [
        "st = {1,2}      #data/ elemnt of st is immutable ----i.e ---> they are fexible and effictive data so, easy to append\n",
        "\n",
        "lt = [1,2,3,4,5]\n",
        "lt.append(st)"
      ],
      "metadata": {
        "id": "ZC9p7vWoZurV"
      },
      "execution_count": null,
      "outputs": []
    },
    {
      "cell_type": "code",
      "source": [
        "\n",
        "\n",
        "\n",
        "\n",
        "\n"
      ],
      "metadata": {
        "id": "o4kLl5M8e6Hu"
      },
      "execution_count": null,
      "outputs": []
    },
    {
      "cell_type": "markdown",
      "source": [
        "#  **Q6 key feature of set and provide the example of their use**"
      ],
      "metadata": {
        "id": "0NYlEyikfA0-"
      }
    },
    {
      "cell_type": "code",
      "source": [
        "\n",
        "# set is a data structute which formed by the adding the element inside the curly bracket\n",
        "# it contain the homogenous and hetrogenous data\n",
        "# can't conatin the duplicate element beacuse its a unordered pair of unque element\n",
        "# mutable>>> can add and remove the element from key\n",
        "\n",
        "# A set is a group of elements that are not in any particular sequence i.e. elements are unordered. Every set element must be unique (no duplication) and immutable (cannot be changed). The set class in Python reflects the mathematical concept of a set. However, Python Sets are changeable, which means they can be changed after they are created.\n",
        "\n",
        "# Sets can also be utilized to conduct mathematical set operations such as union, intersection, and symmetric difference, among others.\n",
        "\n",
        "# We cannot use the indexing method to access items in sets as we can in lists because the Python sets are unordered.\n",
        "\n",
        "\n",
        "# set conatain number of thing and element can be many of type like tupple, string, integer\n",
        "\n",
        "#A set, on the other hand, does not allow mutable elements such as a list, dictionary, and so on\n",
        "\n",
        "\n",
        "# to add single elemt -> add is better\n",
        "# to add multiole  ->  update method is better\n",
        "\n"
      ],
      "metadata": {
        "id": "X1YzvkoSfAKp"
      },
      "execution_count": null,
      "outputs": []
    },
    {
      "cell_type": "code",
      "source": [
        "# use case check if the element present\n",
        "List_1 = [1,2,3,4,5]\n",
        "for i in List_1:\n",
        "  if 2 in List_1:\n",
        "    print('yes')\n",
        "    break\n",
        "  else:\n",
        "    print('no')\n",
        "\n",
        "\n",
        "if 2 in List_1:\n",
        "  print('yes')\n",
        "else:\n",
        "  print('no')"
      ],
      "metadata": {
        "colab": {
          "base_uri": "https://localhost:8080/"
        },
        "id": "7Kj8NoTM0wfS",
        "outputId": "e367f1e5-8f23-4562-8d8b-c589e0869e26"
      },
      "execution_count": null,
      "outputs": [
        {
          "output_type": "stream",
          "name": "stdout",
          "text": [
            "yes\n",
            "yes\n"
          ]
        }
      ]
    },
    {
      "cell_type": "code",
      "source": [
        "st = set(List_1)\n",
        "if 2 in st:\n",
        "  print('yes')\n",
        "else:\n",
        "  print('no')"
      ],
      "metadata": {
        "colab": {
          "base_uri": "https://localhost:8080/"
        },
        "id": "jaNreGb97NOx",
        "outputId": "0ebab6cc-4648-41cf-810d-5de313f1482c"
      },
      "execution_count": null,
      "outputs": [
        {
          "output_type": "stream",
          "name": "stdout",
          "text": [
            "yes\n"
          ]
        }
      ]
    },
    {
      "cell_type": "code",
      "source": [
        "# making a list of uniqu\n",
        "List_1 = [1,2,2,3,4,'rajan','betu','rajan']\n",
        "st = set(List_1)\n",
        "st"
      ],
      "metadata": {
        "colab": {
          "base_uri": "https://localhost:8080/"
        },
        "id": "GYoGI3gN7g6P",
        "outputId": "b718170b-9327-4d94-a387-d3d865c9aab1"
      },
      "execution_count": null,
      "outputs": [
        {
          "output_type": "execute_result",
          "data": {
            "text/plain": [
              "{1, 2, 3, 4, 'betu', 'rajan'}"
            ]
          },
          "metadata": {},
          "execution_count": 8
        }
      ]
    },
    {
      "cell_type": "code",
      "source": [
        "register_studet ={'00123','00234','00345','9098'}\n",
        "st = input('enter the referal code')\n",
        "if st in register_studet:\n",
        "  print('u have already registered')\n",
        "else:\n",
        "  register_studet.add(st)\n",
        "  print(register_studet)"
      ],
      "metadata": {
        "colab": {
          "base_uri": "https://localhost:8080/"
        },
        "id": "OO5blRou7wWY",
        "outputId": "40df4f0d-8fbc-4882-d6ab-9d3a38883643"
      },
      "execution_count": null,
      "outputs": [
        {
          "output_type": "stream",
          "name": "stdout",
          "text": [
            "enter the referal code565\n",
            "{'00345', '565', '9098', '00123', '00234'}\n"
          ]
        }
      ]
    },
    {
      "cell_type": "code",
      "source": [
        "\n",
        "\n",
        "\n"
      ],
      "metadata": {
        "id": "rgVnhJxe8oWo"
      },
      "execution_count": null,
      "outputs": []
    },
    {
      "cell_type": "markdown",
      "source": [
        "# **Q7. Discuss the importance of dictionary key being immutable  and   provide eg:**"
      ],
      "metadata": {
        "id": "4ftwUWZE9c3b"
      }
    },
    {
      "cell_type": "code",
      "source": [
        "#As shown in the figure below, keys are immutable ( which cannot be changed ) data types that can be either strings or numbers.\n",
        "#However, a key can not be a mutable data type, for example, a list.\n",
        "#Keys are unique within a Dictionary and can not be duplicated inside a Dictionary."
      ],
      "metadata": {
        "id": "8pMNyp4U-G96"
      },
      "execution_count": null,
      "outputs": []
    },
    {
      "cell_type": "code",
      "source": [
        "'''\n",
        "dictionary in python is mutabale , we can change the data of dictionary\n",
        "but the key is immutable , we are not able to change the key beacuse key in python is immutable, which is resist to change\n",
        "\n",
        "dictio0nary is stored in memory through hashtable ,where the key of hash table is immutable.\n",
        "so same in the dictionary hash key tells where the data has stored ;;;; if the key has changed , data which present at the location of previous\n",
        "key .....who will point this data....\n",
        "\n",
        "without key key .......how the data is store in memory;;;;;;;;;;;****** so it will throw the error\n",
        "\n",
        "thats why key of dioctionary is immutable\n",
        "\n",
        "singe item dtata type  Like int, float, boolean, string, complex ------> always immutable and data structure like tupple is alos immutable\n",
        "\n",
        "but we can't select the key as an List ---> becuse List is mutuable in nature\n",
        "\n",
        "\n",
        "'''\n",
        "\n",
        "\n",
        "'''"
      ],
      "metadata": {
        "id": "3-WBqRp0BPYF"
      },
      "execution_count": null,
      "outputs": []
    },
    {
      "cell_type": "code",
      "source": [
        "dit = {1 :'ram', \"2\": 'shayam', 2.3 : 'raman', True : 'sanatan dharam'}\n",
        "\n",
        "dit"
      ],
      "metadata": {
        "colab": {
          "base_uri": "https://localhost:8080/"
        },
        "id": "Y6BPPomLFteL",
        "outputId": "b58d58af-2021-434f-af9f-77c905f966e3"
      },
      "execution_count": null,
      "outputs": [
        {
          "output_type": "execute_result",
          "data": {
            "text/plain": [
              "{1: 'sanatan dharam', '2': 'shayam', 2.3: 'raman'}"
            ]
          },
          "metadata": {},
          "execution_count": 25
        }
      ]
    },
    {
      "cell_type": "code",
      "source": [
        "dit  = {1 :'ram', \"2\": 'shayam', 2.3 : 'raman', True : 'sanatan dharam' , (1,2,3): 'Tupple'}\n",
        "dit"
      ],
      "metadata": {
        "colab": {
          "base_uri": "https://localhost:8080/"
        },
        "id": "TMB9GUzBFy9G",
        "outputId": "4a6d9499-912a-4c0e-d98d-ea26fad3bd01"
      },
      "execution_count": null,
      "outputs": [
        {
          "output_type": "execute_result",
          "data": {
            "text/plain": [
              "{1: 'sanatan dharam', '2': 'shayam', 2.3: 'raman', (1, 2, 3): 'Tupple'}"
            ]
          },
          "metadata": {},
          "execution_count": 27
        }
      ]
    },
    {
      "cell_type": "code",
      "source": [
        "dit[1,2,3]"
      ],
      "metadata": {
        "colab": {
          "base_uri": "https://localhost:8080/",
          "height": 36
        },
        "id": "gC80-ZjLGPDQ",
        "outputId": "687746b1-86e3-44f7-ecca-7c0c04925671"
      },
      "execution_count": null,
      "outputs": [
        {
          "output_type": "execute_result",
          "data": {
            "text/plain": [
              "'Tupple'"
            ],
            "application/vnd.google.colaboratory.intrinsic+json": {
              "type": "string"
            }
          },
          "metadata": {},
          "execution_count": 31
        }
      ]
    },
    {
      "cell_type": "code",
      "source": [
        "dit  = {1 :'ram', \"2\": 'shayam', 2.3 : 'raman', True : 'sanatan dharam' , (1,2,3): 'Tupple' , [1,'rajan'] : 'List'}\n",
        "dit"
      ],
      "metadata": {
        "colab": {
          "base_uri": "https://localhost:8080/",
          "height": 158
        },
        "id": "5k_36oPVGSqQ",
        "outputId": "5b83fa5c-fbb1-4740-b2cf-769d93a715a7"
      },
      "execution_count": null,
      "outputs": [
        {
          "output_type": "error",
          "ename": "TypeError",
          "evalue": "unhashable type: 'list'",
          "traceback": [
            "\u001b[0;31m---------------------------------------------------------------------------\u001b[0m",
            "\u001b[0;31mTypeError\u001b[0m                                 Traceback (most recent call last)",
            "\u001b[0;32m<ipython-input-32-9596acf24849>\u001b[0m in \u001b[0;36m<cell line: 1>\u001b[0;34m()\u001b[0m\n\u001b[0;32m----> 1\u001b[0;31m \u001b[0mdit\u001b[0m  \u001b[0;34m=\u001b[0m \u001b[0;34m{\u001b[0m\u001b[0;36m1\u001b[0m \u001b[0;34m:\u001b[0m\u001b[0;34m'ram'\u001b[0m\u001b[0;34m,\u001b[0m \u001b[0;34m\"2\"\u001b[0m\u001b[0;34m:\u001b[0m \u001b[0;34m'shayam'\u001b[0m\u001b[0;34m,\u001b[0m \u001b[0;36m2.3\u001b[0m \u001b[0;34m:\u001b[0m \u001b[0;34m'raman'\u001b[0m\u001b[0;34m,\u001b[0m \u001b[0;32mTrue\u001b[0m \u001b[0;34m:\u001b[0m \u001b[0;34m'sanatan dharam'\u001b[0m \u001b[0;34m,\u001b[0m \u001b[0;34m(\u001b[0m\u001b[0;36m1\u001b[0m\u001b[0;34m,\u001b[0m\u001b[0;36m2\u001b[0m\u001b[0;34m,\u001b[0m\u001b[0;36m3\u001b[0m\u001b[0;34m)\u001b[0m\u001b[0;34m:\u001b[0m \u001b[0;34m'Tupple'\u001b[0m \u001b[0;34m,\u001b[0m \u001b[0;34m[\u001b[0m\u001b[0;36m1\u001b[0m\u001b[0;34m,\u001b[0m\u001b[0;34m'rajan'\u001b[0m\u001b[0;34m]\u001b[0m \u001b[0;34m:\u001b[0m \u001b[0;34m'List'\u001b[0m\u001b[0;34m}\u001b[0m\u001b[0;34m\u001b[0m\u001b[0;34m\u001b[0m\u001b[0m\n\u001b[0m\u001b[1;32m      2\u001b[0m \u001b[0mdit\u001b[0m\u001b[0;34m\u001b[0m\u001b[0;34m\u001b[0m\u001b[0m\n",
            "\u001b[0;31mTypeError\u001b[0m: unhashable type: 'list'"
          ]
        }
      ]
    },
    {
      "cell_type": "code",
      "source": [
        "# List is mutuable , can change ..>>.>> mutuable ----> opppositer to unhasable >>>>   also called hasable"
      ],
      "metadata": {
        "id": "1e6UFK9OGom1"
      },
      "execution_count": null,
      "outputs": []
    },
    {
      "cell_type": "code",
      "source": [
        "\n",
        "\n",
        "\n",
        "\n",
        "\n"
      ],
      "metadata": {
        "id": "IV8KG_eiHHhd"
      },
      "execution_count": null,
      "outputs": []
    },
    {
      "cell_type": "markdown",
      "source": [],
      "metadata": {
        "id": "iqGIwKb-HI7i"
      }
    },
    {
      "cell_type": "code",
      "source": [],
      "metadata": {
        "id": "aKcn9VxyHIFI"
      },
      "execution_count": null,
      "outputs": []
    }
  ],
  "metadata": {
    "colab": {
      "provenance": [],
      "authorship_tag": "ABX9TyM/2pgju4WkTFB19/SqQRfi",
      "include_colab_link": true
    },
    "kernelspec": {
      "display_name": "Python 3",
      "name": "python3"
    },
    "language_info": {
      "name": "python"
    }
  },
  "nbformat": 4,
  "nbformat_minor": 0
}