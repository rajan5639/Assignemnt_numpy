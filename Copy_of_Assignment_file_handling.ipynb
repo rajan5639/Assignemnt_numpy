{
  "nbformat": 4,
  "nbformat_minor": 0,
  "metadata": {
    "colab": {
      "provenance": [],
      "authorship_tag": "ABX9TyMKY5fjmgm+i2jKIkTxK527",
      "include_colab_link": true
    },
    "kernelspec": {
      "name": "python3",
      "display_name": "Python 3"
    },
    "language_info": {
      "name": "python"
    }
  },
  "cells": [
    {
      "cell_type": "markdown",
      "metadata": {
        "id": "view-in-github",
        "colab_type": "text"
      },
      "source": [
        "<a href=\"https://colab.research.google.com/github/rajan5639/Assignemnt_numpy/blob/main/Copy_of_Assignment_file_handling.ipynb\" target=\"_parent\"><img src=\"https://colab.research.google.com/assets/colab-badge.svg\" alt=\"Open In Colab\"/></a>"
      ]
    },
    {
      "cell_type": "code",
      "execution_count": null,
      "metadata": {
        "id": "pnfUU48M99oR"
      },
      "outputs": [],
      "source": [
        "# 1. Discuss the scenarios where multithreading is preferable to multiprocessing and scenarios where multiprocessing is a better choice.\n",
        "# 2. Describe what a process pool is and how it helps in managing multiple processes efficiently.\n",
        "# 3. Explain what multiprocessing is and why it is used in Python programs.\n",
        "# 4. Write a Python program using multithreading where one thread adds numbers to a list, and another thread removes numbers from the list. Implement a mechanism to avoid race conditions using threading.Lock.\n",
        "# 5. Describe the methods and tools available in Python for safely sharing data between threads and processes.\n",
        "# 6. Discuss why it’s crucial to handle exceptions in concurrent programs and the techniques available for doing so.\n",
        "# 7. Create a program that uses a thread pool to calculate the factorial of numbers from 1 to 10 concurrently. Use concurrent.futures.ThreadPoolExecutor to manage the threads.\n",
        "# 8. Create a Python program that uses multiprocessing.Pool to compute the square of numbers from 1 to 10 in parallel. Measure the time taken to perform this computation using a pool of different sizes (e.g., 2, 4, 8 processes)"
      ]
    },
    {
      "cell_type": "code",
      "source": [],
      "metadata": {
        "id": "BJZsj-kp-IR5"
      },
      "execution_count": null,
      "outputs": []
    },
    {
      "cell_type": "code",
      "source": [
        "# . Discuss the scenarios where multithreading is preferable to multiprocessing and scenarios where multiprocessing is a better choice.\n",
        "'''\n",
        "Multithreading and multiprocessing are two common techniques for concurrent programming, allowing applications to execute multiple tasks simultaneously. While both aim to improve performance, they have distinct characteristics and are suited for different scenarios.\n",
        "\n",
        "Multithreading:\n",
        "Definition: Creating multiple threads within a single process.\n",
        "\n",
        "\n",
        "Benefits:\n",
        "Lightweight and efficient\n",
        "Shared memory between threads, reducing communication overhead\n",
        "Suitable for tasks that are I/O-bound or can be decomposed into smaller, independent subtasks\n",
        "\n",
        "Drawbacks:\n",
        "Limited scalability due to the Global Interpreter Lock (GIL) in Python, which prevents multiple threads from executing Python code simultaneously\n",
        "Can be more complex to manage due to potential race conditions and deadlocks\n",
        "\n",
        "Multiprocessing:\n",
        "Definition: Creating multiple processes, each with its own memory space.\n",
        "\n",
        "Benefits:\n",
        "Overcomes the GIL limitation, allowing true parallel execution in Python\n",
        "Suitable for CPU-bound tasks that can be parallelized\n",
        "Provides better isolation and fault tolerance\n",
        "\n",
        "Drawbacks:\n",
        "Heavier overhead due to process creation and communication\n",
        "Requires more memory and system resources\n",
        "\n",
        "When to Use Multithreading:\n",
        "I/O-bound tasks: When the application spends most of its time waiting for external resources like network or disk operations.\n",
        "Small, independent tasks: When the tasks can be broken down into smaller, independent units that can be executed concurrently.\n",
        "Shared data access: When multiple threads need to access and modify shared data, and synchronization mechanisms like locks or semaphores can be effectively used.\n",
        "\n",
        "\n",
        "When to Use Multiprocessing:\n",
        "CPU-bound tasks: When the application is computationally intensive and can benefit from parallel execution across multiple CPU cores.\n",
        "Avoiding GIL limitations: When working with Python code that is heavily CPU-bound and needs to overcome the GIL's restrictions.\n",
        "Isolation and fault tolerance: When tasks need to be isolated from each other to prevent one task from affecting the others in case of errors or exceptions.\n",
        "In summary, multithreading is generally more efficient for I/O-bound tasks and smaller, independent tasks, while multiprocessing is better suited for CPU-bound tasks and scenarios where the GIL is a bottleneck. The choice between the two depends on the specific characteristics of the application and the underlying hardware.\n",
        "\n",
        "'''\n",
        "\n",
        "\n",
        "\n",
        "\n",
        "\n",
        "\n"
      ],
      "metadata": {
        "id": "AhB4m5-W-IOc"
      },
      "execution_count": null,
      "outputs": []
    },
    {
      "cell_type": "code",
      "source": [],
      "metadata": {
        "id": "SnVS-Kmm-IL-"
      },
      "execution_count": null,
      "outputs": []
    },
    {
      "cell_type": "code",
      "source": [
        "# . Describe what a process pool is and how it helps in managing multiple processes efficiently.\n",
        "'''\n",
        "process pool is a mechanism , which help to execute the multiple process concurrently.\n",
        "this mechanism is quite productive and efficient to deal with the large task concurrently instead of single process\n",
        "\n",
        "Benefits of Using Process Pools:\n",
        "\n",
        "Efficient Resource Utilization: By maintaining a pool of worker processes, the overhead of process creation and destruction is reduced. This allows for more efficient utilization of system resources.\n",
        "\n",
        "Improved Performance: Process pools can significantly improve performance, especially when dealing with a large number of tasks. The parallel execution of tasks can lead to faster completion times.\n",
        "Simplified Management: Process pools provide a convenient way to manage multiple processes, abstracting away the complexities of process creation, communication, and synchronization.\n",
        "Flexibility: Process pools can be configured with different parameters, such as the number of worker processes and the task queue size, to optimize performance based on the specific requirements of the application.\n",
        "\n",
        "Common Use Cases for Process Pools:\n",
        "Parallel Processing: Process pools are ideal for tasks that can be executed concurrently, such as data processing, scientific simulations, or image processing.\n",
        "I/O-Bound Tasks: When the tasks involve waiting for external resources (e.g., network or disk I/O), process pools can help to overlap these waiting times with other tasks, improving overall performance.\n",
        "CPU-Bound Tasks: For computationally intensive tasks that can benefit from parallel execution across multiple CPU cores, process pools can provide a scalable and efficient solution.\n",
        "In conclusion, process pools are a powerful tool for managing multiple processes effectively. By creating a pool of worker processes and efficiently distributing tasks among them, process pools can improve performance, simplify management, and optimize resource utilization.\n",
        "\n",
        "'''"
      ],
      "metadata": {
        "id": "EtX_VYUY-IJY"
      },
      "execution_count": null,
      "outputs": []
    },
    {
      "cell_type": "code",
      "source": [
        "\n",
        "# . Explain what multiprocessing is and why it is used in Python programs.\n",
        "\n",
        "'''\n",
        "\n",
        "Multiprocessing in Python: Leveraging Multiple Cores\n",
        "Multiprocessing is a technique in Python that allows programs to execute multiple tasks concurrently across different processes. Each process runs in its own memory space, providing isolation and avoiding the Global Interpreter Lock (GIL) that can limit the performance of multithreaded programs.\n",
        "\n",
        "Key Features of Multiprocessing:\n",
        "\n",
        "Process Isolation: Each process has its own memory space, preventing conflicts and ensuring that changes made in one process do not affect others.\n",
        "\n",
        "GIL Avoidance: By using separate processes, multiprocessing bypasses the GIL, enabling true parallel execution of CPU-bound tasks.\n",
        "\n",
        "Inter-Process Communication (IPC): Multiprocessing provides mechanisms like pipes, queues, and shared memory to allow processes to communicate and share data.\n",
        "Reasons for Using Multiprocessing in Python:\n",
        "CPU-Bound Tasks: When the application is computationally intensive and can benefit from parallel execution across multiple CPU cores, multiprocessing is a powerful tool.\n",
        "Avoiding GIL Limitations: For tasks that are heavily CPU-bound and suffer from the GIL's restrictions in multithreaded programs, multiprocessing offers a solution.\n",
        "Isolation and Fault Tolerance: By running tasks in separate processes, you can isolate them from each other, preventing one process from affecting the others in case of errors or exceptions.\n",
        "Scalability: Multiprocessing can be used to scale applications to handle larger workloads by distributing tasks across multiple processes.\n",
        "Common Use Cases for Multiprocessing:\n",
        "Data Processing: Large-scale data processing tasks, such as data analysis, machine learning, or scientific simulations.\n",
        "Image Processing: Image processing algorithms that can be parallelized, such as image filtering, feature extraction, or object detection.\n",
        "Web Scraping: Scraping large amounts of data from multiple websites simultaneously.\n",
        "Parallel Simulations: Running simulations that can be decomposed into independent subtasks.\n",
        "'''"
      ],
      "metadata": {
        "id": "L_mvP0aD-IGx"
      },
      "execution_count": null,
      "outputs": []
    },
    {
      "cell_type": "code",
      "source": [],
      "metadata": {
        "id": "Q_ooZ3Jz-IEK"
      },
      "execution_count": null,
      "outputs": []
    },
    {
      "cell_type": "code",
      "source": [],
      "metadata": {
        "id": "LySSMysJ-IBj"
      },
      "execution_count": null,
      "outputs": []
    },
    {
      "cell_type": "code",
      "source": [
        "# Create a program that uses a thread pool to calculate the factorial of numbers from 1 to 10 concurrently. Use concurrent.futures.ThreadPoolExecutor to manage the threads."
      ],
      "metadata": {
        "id": "3lzHhHaB-H-9"
      },
      "execution_count": null,
      "outputs": []
    },
    {
      "cell_type": "code",
      "source": [
        "import time\n",
        "import threading\n",
        "start = time.perf_counter()\n",
        "print(start)\n",
        "\n",
        "def factorial(no):\n",
        "  if(no <=1):\n",
        "    time.sleep(1)\n",
        "    return 1\n",
        "\n",
        "  else:\n",
        "    return no*factorial(no-1)\n",
        "\n",
        "\n",
        "list_1=  []\n",
        "for i in range(1,11):\n",
        "  t = threading.Thread(target=factorial , args = (i,))\n",
        "  t.start()\n",
        "  list_1.append(t)\n",
        "\n",
        "\n",
        "for thread in list_1:\n",
        "  thread.join()\n",
        "\n",
        "\n",
        "print(list_1)\n",
        "end = time.perf_counter()\n",
        "print(end)\n",
        "print(end-start)"
      ],
      "metadata": {
        "id": "h4bYaPMO-H8u",
        "colab": {
          "base_uri": "https://localhost:8080/"
        },
        "outputId": "221257d1-83d9-485f-8377-3f59252e9a3a"
      },
      "execution_count": null,
      "outputs": [
        {
          "output_type": "stream",
          "name": "stdout",
          "text": [
            "378.505211759\n",
            "[<Thread(Thread-21 (factorial), stopped 134657467205184)>, <Thread(Thread-22 (factorial), stopped 134657458812480)>, <Thread(Thread-23 (factorial), stopped 134657483990592)>, <Thread(Thread-24 (factorial), stopped 134657710470720)>, <Thread(Thread-25 (factorial), stopped 134658306500160)>, <Thread(Thread-26 (factorial), stopped 134657748231744)>, <Thread(Thread-27 (factorial), stopped 134657727256128)>, <Thread(Thread-28 (factorial), stopped 134657718863424)>, <Thread(Thread-29 (factorial), stopped 134657492383296)>, <Thread(Thread-30 (factorial), stopped 134657475597888)>]\n",
            "379.512496345\n",
            "1.0072845859999688\n"
          ]
        }
      ]
    },
    {
      "cell_type": "code",
      "source": [],
      "metadata": {
        "id": "I3C4hXov-H52"
      },
      "execution_count": null,
      "outputs": []
    },
    {
      "cell_type": "code",
      "source": [
        "# . Describe the methods and tools available in Python for safely sharing data between threads and processes.\n",
        "'''\n",
        "1. Threading:\n",
        "\n",
        "Shared Memory: Threads within the same process inherently share the same memory space. This makes data sharing straightforward but requires careful synchronization to prevent race conditions.\n",
        "\n",
        "Synchronization Primitives: Python's threading module provides tools like:\n",
        "Locks: threading.Lock allows only one thread to access shared data at a time, preventing data corruption.\n",
        "RLocks: threading.RLock provides reentrant locks, allowing a thread to acquire the same lock multiple times.\n",
        "Semaphores: threading.Semaphore limits the number of threads that can access a resource concurrently.\n",
        "Conditions: threading.Condition allows threads to wait for specific conditions before proceeding.\n",
        "Events: threading.Event allows threads to signal each other.\n",
        "Queues: queue.Queue offers a thread-safe way to exchange data between threads. Producers add items to the queue, and consumers retrieve them. Queues handle synchronization internally.\n",
        "\n",
        "2. Multiprocessing:\n",
        "\n",
        "Queues: Similar to threading, multiprocessing.Queue provides a safe way to exchange data between processes. It uses serialization to transfer data between processes.\n",
        "\n",
        "Pipes: multiprocessing.Pipe creates a unidirectional or bidirectional communication channel between processes. Data is serialized and passed through the pipe.\n",
        "\n",
        "Shared Memory: While generally discouraged due to complexity, multiprocessing offers shared memory objects:\n",
        "\n",
        "Value: multiprocessing.Value allows sharing a single value.\n",
        "Array: multiprocessing.Array allows sharing an array of data.\n",
        "\n",
        "'''"
      ],
      "metadata": {
        "id": "RcG2Xcc3-H3h"
      },
      "execution_count": null,
      "outputs": []
    },
    {
      "cell_type": "code",
      "source": [],
      "metadata": {
        "id": "3ZIePgWg-H1L"
      },
      "execution_count": null,
      "outputs": []
    },
    {
      "cell_type": "code",
      "source": [
        "# . Write a Python program using multithreading where one thread adds numbers to a list, and another thread removes numbers from the list. Implement a mechanism to avoid race conditions using threading.Lock.\n",
        "\n",
        "import threading\n",
        "import time\n",
        "\n",
        "def add_numbers(numbers, lock):\n",
        "    \"\"\"Adds numbers to the list.\"\"\"\n",
        "    for i in range(10):\n",
        "        with lock:\n",
        "            numbers.append(i)\n",
        "        time.sleep(0.1)\n",
        "\n",
        "def remove_numbers(numbers, lock):\n",
        "    \"\"\"Removes numbers from the list.\"\"\"\n",
        "    while True:\n",
        "        with lock:\n",
        "            if len(numbers) > 0:\n",
        "                numbers.pop()\n",
        "        time.sleep(0.2)\n",
        "\n",
        "if __name__ == \"__main__\":\n",
        "    numbers = []\n",
        "    lock = threading.Lock()\n",
        "\n",
        "    # Create threads\n",
        "    add_thread = threading.Thread(target=add_numbers, args=(numbers, lock))\n",
        "    remove_thread = threading.Thread(target=remove_numbers, args=(numbers, lock))\n",
        "\n",
        "    # Start threads\n",
        "    add_thread.start()\n",
        "    remove_thread.start()\n",
        "\n",
        "    # Wait for threads to finish\n",
        "    add_thread.join()\n",
        "    remove_thread.join()\n",
        "\n",
        "    print(\"Final list:\", numbers)"
      ],
      "metadata": {
        "id": "j0rwMAdC-Hyn"
      },
      "execution_count": null,
      "outputs": []
    },
    {
      "cell_type": "code",
      "source": [],
      "metadata": {
        "id": "ayDPTQhD-HwR"
      },
      "execution_count": null,
      "outputs": []
    },
    {
      "cell_type": "code",
      "source": [],
      "metadata": {
        "id": "tzS8FpyX-Htx"
      },
      "execution_count": null,
      "outputs": []
    },
    {
      "cell_type": "code",
      "source": [],
      "metadata": {
        "id": "lzXpbQ-0-HrC"
      },
      "execution_count": null,
      "outputs": []
    },
    {
      "cell_type": "code",
      "source": [],
      "metadata": {
        "id": "_zPhNMD_-Hom"
      },
      "execution_count": null,
      "outputs": []
    },
    {
      "cell_type": "code",
      "source": [],
      "metadata": {
        "id": "hP7fu3GW-Hlw"
      },
      "execution_count": null,
      "outputs": []
    },
    {
      "cell_type": "code",
      "source": [],
      "metadata": {
        "id": "f12xhlhC-Hjc"
      },
      "execution_count": null,
      "outputs": []
    },
    {
      "cell_type": "code",
      "source": [],
      "metadata": {
        "id": "SuQnhq1f-HhF"
      },
      "execution_count": null,
      "outputs": []
    },
    {
      "cell_type": "code",
      "source": [],
      "metadata": {
        "id": "lTDw7fSF-Heu"
      },
      "execution_count": null,
      "outputs": []
    },
    {
      "cell_type": "code",
      "source": [],
      "metadata": {
        "id": "yWFnN_qU-HcK"
      },
      "execution_count": null,
      "outputs": []
    },
    {
      "cell_type": "code",
      "source": [],
      "metadata": {
        "id": "1nj-ulfL-HVQ"
      },
      "execution_count": null,
      "outputs": []
    },
    {
      "cell_type": "code",
      "source": [],
      "metadata": {
        "id": "59IWefcT-HR5"
      },
      "execution_count": null,
      "outputs": []
    },
    {
      "cell_type": "code",
      "source": [],
      "metadata": {
        "id": "TUa77YO_-HOg"
      },
      "execution_count": null,
      "outputs": []
    },
    {
      "cell_type": "code",
      "source": [],
      "metadata": {
        "id": "kUkzcwZA-HMD"
      },
      "execution_count": null,
      "outputs": []
    },
    {
      "cell_type": "code",
      "source": [],
      "metadata": {
        "id": "-Qu0qlox-HHA"
      },
      "execution_count": null,
      "outputs": []
    },
    {
      "cell_type": "code",
      "source": [],
      "metadata": {
        "id": "nrmOaQD7-HFJ"
      },
      "execution_count": null,
      "outputs": []
    },
    {
      "cell_type": "code",
      "source": [],
      "metadata": {
        "id": "fbCVEzIz-HBV"
      },
      "execution_count": null,
      "outputs": []
    },
    {
      "cell_type": "code",
      "source": [],
      "metadata": {
        "id": "DigBvrf4-G_P"
      },
      "execution_count": null,
      "outputs": []
    },
    {
      "cell_type": "code",
      "source": [],
      "metadata": {
        "id": "LqfSxNPG-G8w"
      },
      "execution_count": null,
      "outputs": []
    },
    {
      "cell_type": "code",
      "source": [],
      "metadata": {
        "id": "bFf5DBNL-G6O"
      },
      "execution_count": null,
      "outputs": []
    },
    {
      "cell_type": "code",
      "source": [],
      "metadata": {
        "id": "9cukn3kn-G4L"
      },
      "execution_count": null,
      "outputs": []
    },
    {
      "cell_type": "code",
      "source": [],
      "metadata": {
        "id": "T2Lh9VoU-G1v"
      },
      "execution_count": null,
      "outputs": []
    },
    {
      "cell_type": "code",
      "source": [],
      "metadata": {
        "id": "YAYD84fA-GyZ"
      },
      "execution_count": null,
      "outputs": []
    },
    {
      "cell_type": "code",
      "source": [],
      "metadata": {
        "id": "wI-y1RGX-Gvx"
      },
      "execution_count": null,
      "outputs": []
    },
    {
      "cell_type": "code",
      "source": [],
      "metadata": {
        "id": "1aIaEavr-Gtx"
      },
      "execution_count": null,
      "outputs": []
    },
    {
      "cell_type": "code",
      "source": [],
      "metadata": {
        "id": "bpSIWDQv-Gsb"
      },
      "execution_count": null,
      "outputs": []
    },
    {
      "cell_type": "code",
      "source": [],
      "metadata": {
        "id": "HGQGTEQR-GqK"
      },
      "execution_count": null,
      "outputs": []
    },
    {
      "cell_type": "code",
      "source": [],
      "metadata": {
        "id": "0_1NqCVy-Gny"
      },
      "execution_count": null,
      "outputs": []
    },
    {
      "cell_type": "code",
      "source": [],
      "metadata": {
        "id": "ZFqeYVM0-Gll"
      },
      "execution_count": null,
      "outputs": []
    },
    {
      "cell_type": "code",
      "source": [],
      "metadata": {
        "id": "PJS6wtSo-GjS"
      },
      "execution_count": null,
      "outputs": []
    },
    {
      "cell_type": "code",
      "source": [],
      "metadata": {
        "id": "2nRgVm5U-GgL"
      },
      "execution_count": null,
      "outputs": []
    },
    {
      "cell_type": "code",
      "source": [],
      "metadata": {
        "id": "CDwyHDV8-Gdn"
      },
      "execution_count": null,
      "outputs": []
    },
    {
      "cell_type": "code",
      "source": [],
      "metadata": {
        "id": "QIYEExiJ-GbR"
      },
      "execution_count": null,
      "outputs": []
    },
    {
      "cell_type": "code",
      "source": [],
      "metadata": {
        "id": "BGnqjdwu-GZa"
      },
      "execution_count": null,
      "outputs": []
    },
    {
      "cell_type": "code",
      "source": [],
      "metadata": {
        "id": "0-MweLjc-GWz"
      },
      "execution_count": null,
      "outputs": []
    },
    {
      "cell_type": "code",
      "source": [],
      "metadata": {
        "id": "viAnAB-8-GUH"
      },
      "execution_count": null,
      "outputs": []
    },
    {
      "cell_type": "code",
      "source": [],
      "metadata": {
        "id": "VFoa3TgA-GRm"
      },
      "execution_count": null,
      "outputs": []
    },
    {
      "cell_type": "code",
      "source": [],
      "metadata": {
        "id": "jvDNVftD-GPQ"
      },
      "execution_count": null,
      "outputs": []
    },
    {
      "cell_type": "code",
      "source": [],
      "metadata": {
        "id": "DV8PVLIz-GMo"
      },
      "execution_count": null,
      "outputs": []
    },
    {
      "cell_type": "code",
      "source": [],
      "metadata": {
        "id": "kRjCPzjj-GKK"
      },
      "execution_count": null,
      "outputs": []
    },
    {
      "cell_type": "code",
      "source": [],
      "metadata": {
        "id": "ysgeYTCX-GIB"
      },
      "execution_count": null,
      "outputs": []
    },
    {
      "cell_type": "code",
      "source": [],
      "metadata": {
        "id": "ECmL-yEw-GFa"
      },
      "execution_count": null,
      "outputs": []
    },
    {
      "cell_type": "code",
      "source": [],
      "metadata": {
        "id": "W00mLxRF-GC9"
      },
      "execution_count": null,
      "outputs": []
    },
    {
      "cell_type": "code",
      "source": [],
      "metadata": {
        "id": "oWW4RdIh-GA2"
      },
      "execution_count": null,
      "outputs": []
    },
    {
      "cell_type": "code",
      "source": [],
      "metadata": {
        "id": "0puu8SND-F-k"
      },
      "execution_count": null,
      "outputs": []
    },
    {
      "cell_type": "code",
      "source": [],
      "metadata": {
        "id": "XnrI0dBS-F86"
      },
      "execution_count": null,
      "outputs": []
    },
    {
      "cell_type": "code",
      "source": [],
      "metadata": {
        "id": "KQJQZUoS-F6z"
      },
      "execution_count": null,
      "outputs": []
    },
    {
      "cell_type": "code",
      "source": [],
      "metadata": {
        "id": "RgWYAJzM-F5D"
      },
      "execution_count": null,
      "outputs": []
    }
  ]
}