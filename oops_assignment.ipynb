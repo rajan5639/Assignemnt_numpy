{
  "nbformat": 4,
  "nbformat_minor": 0,
  "metadata": {
    "colab": {
      "provenance": [],
      "authorship_tag": "ABX9TyPjogSE6xGk98IobfncyK2e",
      "include_colab_link": true
    },
    "kernelspec": {
      "name": "python3",
      "display_name": "Python 3"
    },
    "language_info": {
      "name": "python"
    }
  },
  "cells": [
    {
      "cell_type": "markdown",
      "metadata": {
        "id": "view-in-github",
        "colab_type": "text"
      },
      "source": [
        "<a href=\"https://colab.research.google.com/github/rajan5639/Assignemnt_numpy/blob/main/oops_assignment.ipynb\" target=\"_parent\"><img src=\"https://colab.research.google.com/assets/colab-badge.svg\" alt=\"Open In Colab\"/></a>"
      ]
    },
    {
      "cell_type": "code",
      "execution_count": null,
      "metadata": {
        "id": "zLOKnSmfH31D"
      },
      "outputs": [],
      "source": [
        "'''\n",
        "1. What are the five key concepts of Object-Oriented Programming (OOP)?\n",
        "2. Write a Python class for a `Car` with attributes for `make`, `model`, and `year`. Include a method to display the car's information.\n",
        "3. Explain the difference between instance methods and class methods. Provide an example of each.\n",
        " 4. How does Python implement method overloading? Give an example.\n",
        " 5. What are the three types of access modifiers in Python? How are they denoted?\n",
        " 6. Describe the five types of inheritance in Python. Provide a simple example of multiple inheritance.\n",
        " 7. What is the Method Resolution Order (MRO) in Python? How can you retrieve it programmatically?\n",
        " 8. Create an abstract base class `Shape` with an abstract method `area()`. Then create two subclasses `Circle` and `Rectangle` that implement the `area()` method.\n",
        " 9. Demonstrate polymorphism by creating a function that can work with different shape objects to calculate and print their areas.\n",
        " 10. Implement encapsulation in a `BankAccount` class with private attributes for `balance` and `account_number`. Include methods for deposit, withdrawal, and balance inquiry.\n",
        " 12. Create a decorator that measures and prints the execution time of a function.\n",
        "6666 13. Explain the concept of the Diamond Problem in multiple inheritance. How does Python resolve it?\n",
        " 14. Write a class method that keeps track of the number of instances created from a class.\n",
        "  15. Implement a static method in a class that checks if a given year is a leap year.\n",
        "\n",
        " '''"
      ]
    },
    {
      "cell_type": "code",
      "source": [
        "'''\n",
        "1. What are the five key concepts of Object-Oriented Programming (OOP)?\n",
        "\n",
        "//    answer 1\n",
        "\n",
        "oops stand for object oriented programming structure , which is used to connect tht package of code with real world.\n",
        "by the help of object oriented programming we can easy to implemnt the read the  real world problem in to the digital software , where we can modify / update / re-write as well as enchance the security b\n",
        "so , outsider mallicious coder / hacker  can't access the  relevant data\n",
        "\n",
        "5 imp property :\n",
        "\n",
        "\n",
        "[1] .    class :          its a blue print , where the set of attribute / property defined.\n",
        "                        It contain all the relevant data\n",
        "\n",
        "[2]  .   object :->  its a   template of class , which is used to access the data of class\n",
        "                   without object we can't access the data\n",
        "\n",
        " [3]     encapsulation :->  its a process which is used the hide the code (relevant code) which we dont wanna to expose publically for security purpose\n",
        "                             Acess specifier like public / private / protect\n",
        "\n",
        "\n",
        "[4]   inheritence :-> it is the process of inherit the property from parent class to child class , from base class to derived class\n",
        "\n",
        "\n",
        "[5]   polymorphism :->  poly mean many and morphism  mean form ,,  entity which are having many form is called polymorphism.`\n",
        "eg : using inbuilt function (len)  we can calculate the different data structure like list/tupple etc\n",
        "\n",
        "'''\n",
        "\n"
      ],
      "metadata": {
        "id": "KmrV6HFTIugI"
      },
      "execution_count": null,
      "outputs": []
    },
    {
      "cell_type": "code",
      "source": [
        "#2. Write a Python class for a `Car` with attributes for `make`, `model`, and `year`. Include a method to display the car's information.\n",
        "\n",
        "class car:\n",
        "  def __init__(self , make , model , year):\n",
        "    self.make = make\n",
        "    self.model = model\n",
        "    self.year = year\n",
        "\n",
        "  def  displaying(self):\n",
        "    print(self.make)\n",
        "    print(self.model)\n",
        "    print(self.year)\n"
      ],
      "metadata": {
        "id": "UqDvF3fZIudA"
      },
      "execution_count": 2,
      "outputs": []
    },
    {
      "cell_type": "code",
      "source": [
        "obj = car('india' , 'CMP' , 2024)"
      ],
      "metadata": {
        "id": "5Z3_fTNsIua4"
      },
      "execution_count": 3,
      "outputs": []
    },
    {
      "cell_type": "code",
      "source": [
        "obj.displaying()"
      ],
      "metadata": {
        "colab": {
          "base_uri": "https://localhost:8080/"
        },
        "id": "MtuS9kr_IuZC",
        "outputId": "878a6557-f11c-43bf-fbc7-f05f0b18722d"
      },
      "execution_count": 4,
      "outputs": [
        {
          "output_type": "stream",
          "name": "stdout",
          "text": [
            "india\n",
            "CMP\n",
            "2024\n"
          ]
        }
      ]
    },
    {
      "cell_type": "code",
      "source": [
        "'''\n",
        "3. Explain the difference between instance methods and class methods. Provide an example of each.\n",
        "\n",
        "instance method :-> which operate on a particular selected pieces of instance\n",
        "                     have access on the instance attribute\n",
        "                     using self keyword  or  prefer to append the magic method\n",
        "\n",
        "\n",
        "class car:\n",
        "  def __init__(self , make , model , year):\n",
        "    self.make = make\n",
        "    self.model = model\n",
        "    self.year = year\n",
        "\n",
        "  def  displaying(self):\n",
        "    print(self.make)\n",
        "    print(self.model)\n",
        "    print(self.year)\n",
        "\n",
        "\n",
        "\n",
        " class method :->  which on the class attribute\n",
        "                  can access all over the data of class\n",
        "                  prefer to use cls\n",
        "                  decorator can be seen\n",
        "\n",
        "\n",
        "\n"
      ],
      "metadata": {
        "id": "SQ5veoCeIuWi"
      },
      "execution_count": null,
      "outputs": []
    },
    {
      "cell_type": "code",
      "source": [
        "class circle:\n",
        "  pi = 3.14\n",
        "\n",
        "  @classmethod\n",
        "  def passing_radius(cls , radius):\n",
        "    return cls(radius)\n",
        "\n",
        "  def area(self):\n",
        "    return p1*radius**2"
      ],
      "metadata": {
        "id": "2kJlr6eEIuUZ"
      },
      "execution_count": 5,
      "outputs": []
    },
    {
      "cell_type": "code",
      "source": [
        "obj = circle()\n",
        "obj.passing_radius(34)"
      ],
      "metadata": {
        "id": "5n1DuNnCIuSD"
      },
      "execution_count": null,
      "outputs": []
    },
    {
      "cell_type": "code",
      "source": [],
      "metadata": {
        "id": "rsW7eChaIuPt"
      },
      "execution_count": null,
      "outputs": []
    },
    {
      "cell_type": "code",
      "source": [
        "#  4. How does Python implement method overloading? Give an example.\n",
        "methood overloading :->  concept of polymorphism , why define many function with same name but different parameter\n",
        "                         does not support the operator overloading\n",
        "                         only support the functional overloading\n",
        "\n",
        "\n",
        "as python method overloading is different way to achive\n",
        "if we are using opertaor overloading only last one will be excute\n",
        "# actually it doesnot support the concept of overloading"
      ],
      "metadata": {
        "id": "8WtitNqKIuNF"
      },
      "execution_count": null,
      "outputs": []
    },
    {
      "cell_type": "code",
      "source": [
        "def add(a=None , b= None):\n",
        "  if a != None and b==None:\n",
        "    print(a)\n",
        "  else:\n",
        "   print(a+b)\n",
        "add(2,3)\n",
        "add(2)\n",
        ""
      ],
      "metadata": {
        "colab": {
          "base_uri": "https://localhost:8080/"
        },
        "id": "GYAecXtrIuJL",
        "outputId": "3abaa04d-69f2-4f47-b37c-9ea4d194b5ae"
      },
      "execution_count": 55,
      "outputs": [
        {
          "output_type": "stream",
          "name": "stdout",
          "text": [
            "5\n",
            "2\n"
          ]
        }
      ]
    },
    {
      "cell_type": "code",
      "source": [
        "'''\n",
        "# The problem with above methods is that, it makes code more complex with multiple if/else statement and is not the desired way to achieve the method overloading.\n",
        "'''"
      ],
      "metadata": {
        "id": "mdqxQcuIIt0T"
      },
      "execution_count": null,
      "outputs": []
    },
    {
      "cell_type": "code",
      "source": [
        "# to overcome from this let me use"
      ],
      "metadata": {
        "id": "knpJc0H3ItyC"
      },
      "execution_count": null,
      "outputs": []
    },
    {
      "cell_type": "code",
      "source": [
        "!pip3 install multipledispatch  # going to use multiple dispatch decoirator :-=> to achieve the sucess full"
      ],
      "metadata": {
        "colab": {
          "base_uri": "https://localhost:8080/"
        },
        "id": "qSwlETXFItuO",
        "outputId": "4650f727-76d4-4afb-c54c-f27dbe75df5c"
      },
      "execution_count": 57,
      "outputs": [
        {
          "output_type": "stream",
          "name": "stdout",
          "text": [
            "Requirement already satisfied: multipledispatch in /usr/local/lib/python3.10/dist-packages (1.0.0)\n"
          ]
        }
      ]
    },
    {
      "cell_type": "code",
      "source": [
        "from multipledispatch import dispatch\n",
        "\n",
        "@dispatch(int , int)\n",
        "def add(a, b):\n",
        "  print(a+b)\n",
        "\n",
        "@dispatch(int , int, int)\n",
        "def add(a , b, c):\n",
        "  print(a+b+c)\n",
        "\n",
        "\n",
        "@dispatch(int , int, int, int)\n",
        "def add(a,b,c,d):\n",
        "  print(a+b+c+d)\n"
      ],
      "metadata": {
        "id": "C19tVFR8ItsC"
      },
      "execution_count": 60,
      "outputs": []
    },
    {
      "cell_type": "code",
      "source": [
        "add(2,3)"
      ],
      "metadata": {
        "colab": {
          "base_uri": "https://localhost:8080/"
        },
        "id": "4TZg4NUoItpg",
        "outputId": "0957a182-5289-456a-aef7-e9369bbd6350"
      },
      "execution_count": 61,
      "outputs": [
        {
          "output_type": "stream",
          "name": "stdout",
          "text": [
            "5\n"
          ]
        }
      ]
    },
    {
      "cell_type": "code",
      "source": [
        "add(1,2,3)"
      ],
      "metadata": {
        "colab": {
          "base_uri": "https://localhost:8080/"
        },
        "id": "llWOttTZItnJ",
        "outputId": "48154419-2dc1-428b-ad05-eac90dedfeea"
      },
      "execution_count": 62,
      "outputs": [
        {
          "output_type": "stream",
          "name": "stdout",
          "text": [
            "6\n"
          ]
        }
      ]
    },
    {
      "cell_type": "code",
      "source": [
        "add(1,2,3,4)"
      ],
      "metadata": {
        "colab": {
          "base_uri": "https://localhost:8080/"
        },
        "id": "UWIFc0eUItim",
        "outputId": "dbb875b6-f78e-40de-9629-6c4f9526eef5"
      },
      "execution_count": 63,
      "outputs": [
        {
          "output_type": "stream",
          "name": "stdout",
          "text": [
            "10\n"
          ]
        }
      ]
    },
    {
      "cell_type": "code",
      "source": [],
      "metadata": {
        "id": "uHUfDq0IItft"
      },
      "execution_count": null,
      "outputs": []
    },
    {
      "cell_type": "code",
      "source": [
        "\n",
        "#  5. What are the three types of access modifiers in Python? How are they denoted?\n",
        "\n",
        "# [1] public acess modifier    :  self.name  : can be access every where\n",
        "# [2] private aceess modifier  :  self.__name : acess only with in the class\n",
        "# [3] protect acess modifier   :  self._name  : can be acess by child class || derived class\n"
      ],
      "metadata": {
        "id": "wlE41FRTItdG"
      },
      "execution_count": null,
      "outputs": []
    },
    {
      "cell_type": "code",
      "source": [
        " 6. Describe the five types of inheritance in Python. Provide a simple example of multiple inheritance.\n"
      ],
      "metadata": {
        "id": "NeDsrt3SItam"
      },
      "execution_count": null,
      "outputs": []
    },
    {
      "cell_type": "code",
      "source": [
        "[1] single\n",
        "[2] multiple\n",
        "[3] multilevel\n",
        "[4] hierarchial\n",
        "[5] hybrid"
      ],
      "metadata": {
        "id": "ZAx1DhDlItYC"
      },
      "execution_count": null,
      "outputs": []
    },
    {
      "cell_type": "code",
      "source": [
        "'''\n",
        "# single : access  the  prperty  from parent to child class\n",
        "'''"
      ],
      "metadata": {
        "id": "vLkVnnDtItWX"
      },
      "execution_count": null,
      "outputs": []
    },
    {
      "cell_type": "code",
      "source": [
        "class father:\n",
        "  def father_age(self):\n",
        "    print('I am 56 year old')\n",
        "\n",
        "class son(father):\n",
        "  def son_age(self):\n",
        "    print('I am 19 year old')"
      ],
      "metadata": {
        "id": "LhPNzdI5ItUf"
      },
      "execution_count": 65,
      "outputs": []
    },
    {
      "cell_type": "code",
      "source": [
        "obj = son()"
      ],
      "metadata": {
        "id": "pB1AAYIHItSy"
      },
      "execution_count": 66,
      "outputs": []
    },
    {
      "cell_type": "code",
      "source": [
        "obj.father_age()"
      ],
      "metadata": {
        "colab": {
          "base_uri": "https://localhost:8080/"
        },
        "id": "QdsH8v90ItQa",
        "outputId": "8300f8dc-ee02-43ad-d0f4-77d067ebdcee"
      },
      "execution_count": 67,
      "outputs": [
        {
          "output_type": "stream",
          "name": "stdout",
          "text": [
            "I am 56 year old\n"
          ]
        }
      ]
    },
    {
      "cell_type": "code",
      "source": [
        "obj.son_age()"
      ],
      "metadata": {
        "colab": {
          "base_uri": "https://localhost:8080/"
        },
        "id": "3gikzvJCItOY",
        "outputId": "5c3bfb95-2971-417c-81ee-66b03c68ca8d"
      },
      "execution_count": 68,
      "outputs": [
        {
          "output_type": "stream",
          "name": "stdout",
          "text": [
            "I am 19 year old\n"
          ]
        }
      ]
    },
    {
      "cell_type": "code",
      "source": [
        "#  multilevel :-> acess property"
      ],
      "metadata": {
        "id": "KijqpMIoItJE"
      },
      "execution_count": null,
      "outputs": []
    },
    {
      "cell_type": "code",
      "source": [
        "class Gfather:\n",
        "  def father_age(self):\n",
        "    print('I am 78 year old')\n",
        "\n",
        "class son(father):\n",
        "  def son_age(self):\n",
        "    print('I am 31 year old')\n",
        "\n",
        "class grand_child(son):\n",
        "  def G_age(self):\n",
        "    print('I ma 2 month year old')"
      ],
      "metadata": {
        "id": "Q_RJaxAGItA1"
      },
      "execution_count": 69,
      "outputs": []
    },
    {
      "cell_type": "code",
      "source": [
        "obj= grand_child()"
      ],
      "metadata": {
        "id": "rEz5QoAcIs9R"
      },
      "execution_count": 70,
      "outputs": []
    },
    {
      "cell_type": "code",
      "source": [
        "obj.G_age()"
      ],
      "metadata": {
        "colab": {
          "base_uri": "https://localhost:8080/"
        },
        "id": "eq-LaYX5Is5R",
        "outputId": "8d0c6bc1-c299-4d17-817c-6266ab7beb9b"
      },
      "execution_count": 71,
      "outputs": [
        {
          "output_type": "stream",
          "name": "stdout",
          "text": [
            "I ma 2 month year old\n"
          ]
        }
      ]
    },
    {
      "cell_type": "code",
      "source": [
        "obj.father_age()"
      ],
      "metadata": {
        "colab": {
          "base_uri": "https://localhost:8080/"
        },
        "id": "NQB9tBwQIs3V",
        "outputId": "a06f82ea-fc9a-455c-bc0c-866d7a167469"
      },
      "execution_count": 72,
      "outputs": [
        {
          "output_type": "stream",
          "name": "stdout",
          "text": [
            "I am 56 year old\n"
          ]
        }
      ]
    },
    {
      "cell_type": "code",
      "source": [
        "# multiple inheritance :->  inherit more than one class property  simultaneously\n",
        "\n",
        "class banana:\n",
        "  def fruit(self):\n",
        "    print('i love banana shake')\n",
        "class cauliflower:\n",
        "  def vegetable(self):\n",
        "    print('very good for nutrition')\n",
        "\n",
        "\n",
        "\n",
        "class boy(banana , cauliflower):\n",
        "  def myself(self):\n",
        "    print('I love to maintain my health')"
      ],
      "metadata": {
        "id": "gcj-65pVIs1K"
      },
      "execution_count": 74,
      "outputs": []
    },
    {
      "cell_type": "code",
      "source": [
        "obj = boy()"
      ],
      "metadata": {
        "id": "fNg9rg-7IsyL"
      },
      "execution_count": 75,
      "outputs": []
    },
    {
      "cell_type": "code",
      "source": [
        "obj.fruit()"
      ],
      "metadata": {
        "colab": {
          "base_uri": "https://localhost:8080/"
        },
        "id": "nPE1wC3wIsvx",
        "outputId": "97b9fab3-ef4e-471e-8cc8-d5cc6d3fff45"
      },
      "execution_count": 76,
      "outputs": [
        {
          "output_type": "stream",
          "name": "stdout",
          "text": [
            "i love banana shake\n"
          ]
        }
      ]
    },
    {
      "cell_type": "code",
      "source": [
        "obj.myself()"
      ],
      "metadata": {
        "colab": {
          "base_uri": "https://localhost:8080/"
        },
        "id": "U-VMHh_vihnX",
        "outputId": "1f7be5e4-02a7-4951-cd02-372d458c0ec6"
      },
      "execution_count": 77,
      "outputs": [
        {
          "output_type": "stream",
          "name": "stdout",
          "text": [
            "I love to maintain my health\n"
          ]
        }
      ]
    },
    {
      "cell_type": "code",
      "source": [
        "# hybrid : -> Hybrid inheritance is a combination of multiple inheritance and single inheritance. It occurs when a class inherits from multiple classes, and at least one of those classes also inherits from another class."
      ],
      "metadata": {
        "id": "sHrhOW3oilvP"
      },
      "execution_count": null,
      "outputs": []
    },
    {
      "cell_type": "code",
      "source": [
        "class A:\n",
        "  def A_wala(self):\n",
        "    print('A property')\n",
        "class B(A):\n",
        "  def B_wala(self):\n",
        "    print('B  property')\n",
        "\n",
        "class C(A):\n",
        "  def C_wala(self):\n",
        "    print('C ki property')\n",
        "\n",
        "class final(C,B):\n",
        "  def final_wala(self):\n",
        "    print('access both property')"
      ],
      "metadata": {
        "id": "QgoBw0EMilr0"
      },
      "execution_count": 79,
      "outputs": []
    },
    {
      "cell_type": "code",
      "source": [
        "obj = final()"
      ],
      "metadata": {
        "id": "mHzJygA6ilpv"
      },
      "execution_count": 80,
      "outputs": []
    },
    {
      "cell_type": "code",
      "source": [
        "obj.final_wala()"
      ],
      "metadata": {
        "colab": {
          "base_uri": "https://localhost:8080/"
        },
        "id": "iNW6X5V8ilnm",
        "outputId": "a184bd2e-3b09-4e12-d3b2-e2622e03fe2f"
      },
      "execution_count": 81,
      "outputs": [
        {
          "output_type": "stream",
          "name": "stdout",
          "text": [
            "access both property\n"
          ]
        }
      ]
    },
    {
      "cell_type": "code",
      "source": [
        "obj.C_wala()"
      ],
      "metadata": {
        "colab": {
          "base_uri": "https://localhost:8080/"
        },
        "id": "vGAjfk-TillN",
        "outputId": "2d87bced-b1f3-4cd9-8b23-2a636b907b5a"
      },
      "execution_count": 82,
      "outputs": [
        {
          "output_type": "stream",
          "name": "stdout",
          "text": [
            "C ki property\n"
          ]
        }
      ]
    },
    {
      "cell_type": "code",
      "source": [
        "# Hierarchical Inheritance\n",
        "# Hierarchical inheritance is a type of inheritance where multiple classes inherit from a common base class, forming a tree-like structure."
      ],
      "metadata": {
        "id": "FyXHts9Dilip"
      },
      "execution_count": null,
      "outputs": []
    },
    {
      "cell_type": "code",
      "source": [
        "\n",
        "class Animal:\n",
        "    def eat(self):\n",
        "        print(\"Eating...\")\n",
        "\n",
        "class Mammal(Animal):\n",
        "    def give_birth(self):\n",
        "        print(\"Giving birth...\")\n",
        "\n",
        "class Dog(Mammal):\n",
        "    def bark(self):\n",
        "        print(\"Barking...\")\n",
        "\n",
        "class Cat(Mammal):\n",
        "    def meow(self):\n",
        "        print(\"Meowing...\")\n",
        "\n",
        "dog = Dog()\n",
        "cat = Cat()\n",
        "\n",
        "dog.eat()\n",
        "dog.give_birth()\n",
        "dog.bark()\n",
        "\n",
        "cat.eat()\n",
        "cat.give_birth()\n",
        "cat.meow()\n"
      ],
      "metadata": {
        "colab": {
          "base_uri": "https://localhost:8080/"
        },
        "id": "hR7pThZBilgj",
        "outputId": "efe9c0e5-3490-4b09-fdc7-b440115a45ce"
      },
      "execution_count": 83,
      "outputs": [
        {
          "output_type": "stream",
          "name": "stdout",
          "text": [
            "Eating...\n",
            "Giving birth...\n",
            "Barking...\n",
            "Eating...\n",
            "Giving birth...\n",
            "Meowing...\n"
          ]
        }
      ]
    },
    {
      "cell_type": "code",
      "source": [],
      "metadata": {
        "id": "e3x9aLQqile0"
      },
      "execution_count": null,
      "outputs": []
    },
    {
      "cell_type": "code",
      "source": [
        "#  7. What is the Method Resolution Order (MRO) in Python? How can you retrieve it programmatically?\n",
        "\n",
        "\n",
        "'''\n",
        "it is an systematics   order involve in python having muplitple class inherit each other ,  so, it can be easily debug and understand having any error\n",
        "\n",
        "when we are dealing with large data of project , so its clear and easily understandable for debugger to detect the error and make the project to productive\n",
        "\n"
      ],
      "metadata": {
        "id": "IUyBEaH1ilax"
      },
      "execution_count": null,
      "outputs": []
    },
    {
      "cell_type": "code",
      "source": [
        "class A :\n",
        "  def A_class():\n",
        "    print('A ka data')\n",
        "\n",
        "class B(A):\n",
        "  def B_class():\n",
        "    print('B_walal')\n",
        "\n",
        "class C(A):\n",
        "  def C_class():\n",
        "    print('C_walal')\n",
        "\n",
        "\n",
        "\n",
        "class D(B,C):\n",
        "  def D_class():\n",
        "    print('D_class')"
      ],
      "metadata": {
        "id": "6BXwJY-zilYg"
      },
      "execution_count": 88,
      "outputs": []
    },
    {
      "cell_type": "code",
      "source": [
        "# here it easy to understand the order :\n",
        "B,c is [parent of d]\n",
        "A is parent of B ,C"
      ],
      "metadata": {
        "id": "JVrhnXniilWK"
      },
      "execution_count": null,
      "outputs": []
    },
    {
      "cell_type": "code",
      "source": [],
      "metadata": {
        "id": "BTFZT4mHilT2"
      },
      "execution_count": null,
      "outputs": []
    },
    {
      "cell_type": "code",
      "source": [
        "# 8. Create an abstract base class `Shape` with an abstract method `area()`. Then create two subclasses `Circle` and `Rectangle` that implement the `area()` method.\n",
        "\n",
        "\n",
        "\n",
        "Abstraction :-> it is a method of hiding the complex data and only focusing omn the essential data\n",
        "@abc.abstractmethod :->  used to access the abstraction\n"
      ],
      "metadata": {
        "id": "bPNGwux5ilRL"
      },
      "execution_count": null,
      "outputs": []
    },
    {
      "cell_type": "code",
      "source": [
        "import abc\n",
        "class shape:\n",
        "\n",
        "  @abc.abstractmethod\n",
        "  def area(self):\n",
        "    pass\n",
        "\n",
        "class circle(shape):\n",
        "  def area(self):\n",
        "    return 'area  of  circle is p1*r*r'\n",
        "\n",
        "class Rectangle(shape):\n",
        "  def  area(self):\n",
        "    return 'area of  rectangle is Length * breadth'\n"
      ],
      "metadata": {
        "id": "AkjLSxkkilPO"
      },
      "execution_count": 92,
      "outputs": []
    },
    {
      "cell_type": "code",
      "source": [
        "obj = circle()"
      ],
      "metadata": {
        "id": "GVxI2_fEilKM"
      },
      "execution_count": 93,
      "outputs": []
    },
    {
      "cell_type": "code",
      "source": [
        "obj.area()"
      ],
      "metadata": {
        "colab": {
          "base_uri": "https://localhost:8080/",
          "height": 36
        },
        "id": "jJx1bcisilFP",
        "outputId": "73073808-7f86-4c58-e6f6-64937473bdbf"
      },
      "execution_count": 94,
      "outputs": [
        {
          "output_type": "execute_result",
          "data": {
            "text/plain": [
              "'area  of  circle is p1*r*r'"
            ],
            "application/vnd.google.colaboratory.intrinsic+json": {
              "type": "string"
            }
          },
          "metadata": {},
          "execution_count": 94
        }
      ]
    },
    {
      "cell_type": "code",
      "source": [
        " # 9. Demonstrate polymorphism by creating a function that can work with different shape objects to calculate and print their areas.\n"
      ],
      "metadata": {
        "id": "i_8VTeInilDI"
      },
      "execution_count": null,
      "outputs": []
    },
    {
      "cell_type": "code",
      "source": [
        "from multipledispatch import dispatch    # use decorator dispatch\n",
        "class calculate_area:\n",
        "\n",
        "\n",
        "  @dispatch(float)\n",
        "  def area( radius):\n",
        "    print('area  of circle' , 3.14*radius)\n",
        "\n",
        "  @dispatch(int,int)\n",
        "  def area(length , breadth ):\n",
        "    print('area of rectangle is   ',   length * breadth)\n",
        "    print('perimeter of rect' ,  2*(length + breadth)  )\n",
        "\n",
        "\n",
        "  @dispatch(float , int)\n",
        "  def area(base , height):\n",
        "    print('perimeter of triangle  ', 0.5*base*height)\n",
        "\n",
        "\n",
        "\n",
        "\n",
        "\n",
        ""
      ],
      "metadata": {
        "id": "uGd-VnaWuXKX"
      },
      "execution_count": 125,
      "outputs": []
    },
    {
      "cell_type": "code",
      "source": [
        "obj = calculate_area()"
      ],
      "metadata": {
        "id": "I9KhoE3luXG6"
      },
      "execution_count": 126,
      "outputs": []
    },
    {
      "cell_type": "code",
      "source": [
        "obj.area(10.9)"
      ],
      "metadata": {
        "colab": {
          "base_uri": "https://localhost:8080/"
        },
        "id": "jfmQenH2uXEr",
        "outputId": "106b4f57-ce3b-4a37-ef22-bba2b1b72a83"
      },
      "execution_count": 127,
      "outputs": [
        {
          "output_type": "stream",
          "name": "stdout",
          "text": [
            "area  of circle 34.226\n"
          ]
        }
      ]
    },
    {
      "cell_type": "code",
      "source": [
        "obj.area(10,20)"
      ],
      "metadata": {
        "colab": {
          "base_uri": "https://localhost:8080/"
        },
        "id": "4MaDPa3FyBNp",
        "outputId": "dd4e901b-d711-4b7d-e36c-aed2e81a3b7b"
      },
      "execution_count": 128,
      "outputs": [
        {
          "output_type": "stream",
          "name": "stdout",
          "text": [
            "area of rectangle is    200\n",
            "perimeter of rect 60\n"
          ]
        }
      ]
    },
    {
      "cell_type": "code",
      "source": [
        "obj.area(0.8, 1200)"
      ],
      "metadata": {
        "colab": {
          "base_uri": "https://localhost:8080/"
        },
        "id": "zpCnY5vlyi9B",
        "outputId": "c5826632-bf1f-45b5-9a00-197184a83060"
      },
      "execution_count": 129,
      "outputs": [
        {
          "output_type": "stream",
          "name": "stdout",
          "text": [
            "perimeter of triangle   480.0\n"
          ]
        }
      ]
    },
    {
      "cell_type": "code",
      "source": [
        "\n"
      ],
      "metadata": {
        "id": "_pUN8Q1AuXCb"
      },
      "execution_count": null,
      "outputs": []
    },
    {
      "cell_type": "code",
      "source": [
        " 10. Implement encapsulation in a `BankAccount` class with private attributes for `balance` and `account_number`. Include methods for deposit, withdrawal, and balance inquiry.\n"
      ],
      "metadata": {
        "id": "RiZRxRuKilA0"
      },
      "execution_count": null,
      "outputs": []
    },
    {
      "cell_type": "code",
      "source": [
        "class bank:\n",
        "  def __init__(self,Totalamount,accountNO):\n",
        "    self.__Totalamount = Totalamount\n",
        "    self.__accountNO = accountNO\n",
        "\n",
        "  def deposit(self , money):\n",
        "    print('money before deposit is ', self.__Totalamount)\n",
        "    self.__Totalamount += money\n",
        "    print('money after deposit is ', self.__Totalamount)\n",
        "\n",
        "  def withdrawl(self , money):\n",
        "    if(self.__Totalamount >= money):\n",
        "      self.__Totalamount -= money\n",
        "\n",
        "    else:\n",
        "      print('please enter the correct amount')\n",
        "\n",
        "  def balanceInquiry(self):\n",
        "    input('please tell your enquiry    ')\n",
        "\n",
        "  def showingTransaction(self,account_number):\n",
        "    if(account_number == self.__accountNO):\n",
        "      return self.__Totalamount\n",
        "    else:\n",
        "      return 'cosult  with   query   department'\n"
      ],
      "metadata": {
        "id": "ArwDZo32ik-f"
      },
      "execution_count": 135,
      "outputs": []
    },
    {
      "cell_type": "code",
      "source": [
        "obj = bank(5000 , '0131cl221082')"
      ],
      "metadata": {
        "id": "znVhLZ2Aik78"
      },
      "execution_count": 136,
      "outputs": []
    },
    {
      "cell_type": "code",
      "source": [
        "obj.deposit(1000)"
      ],
      "metadata": {
        "colab": {
          "base_uri": "https://localhost:8080/"
        },
        "id": "pHYt3S3jik5l",
        "outputId": "7f7bf178-62e7-4d31-8cd1-e6e2e64324d6"
      },
      "execution_count": 137,
      "outputs": [
        {
          "output_type": "stream",
          "name": "stdout",
          "text": [
            "money before deposit is  5000\n",
            "money after deposit is  6000\n"
          ]
        }
      ]
    },
    {
      "cell_type": "code",
      "source": [
        "obj.withdrawl(2000)"
      ],
      "metadata": {
        "id": "NEtqJUMtik3e"
      },
      "execution_count": 138,
      "outputs": []
    },
    {
      "cell_type": "code",
      "source": [
        "obj.balanceInquiry()"
      ],
      "metadata": {
        "colab": {
          "base_uri": "https://localhost:8080/"
        },
        "id": "-OGIPLcKikt4",
        "outputId": "14ab18aa-afc6-4371-cecc-b2bb73df2feb"
      },
      "execution_count": 139,
      "outputs": [
        {
          "name": "stdout",
          "output_type": "stream",
          "text": [
            "please tell your enquiry    ATM / pin / 1 coco-cola\n"
          ]
        }
      ]
    },
    {
      "cell_type": "code",
      "source": [],
      "metadata": {
        "id": "HCLhelKlikrx"
      },
      "execution_count": 139,
      "outputs": []
    },
    {
      "cell_type": "code",
      "source": [
        "obj.showingTransaction('0131cl221082')"
      ],
      "metadata": {
        "colab": {
          "base_uri": "https://localhost:8080/"
        },
        "id": "Xhe7dc02ikpr",
        "outputId": "06ac08ff-cacb-49ce-d44a-d58c410f984d"
      },
      "execution_count": 141,
      "outputs": [
        {
          "output_type": "execute_result",
          "data": {
            "text/plain": [
              "4000"
            ]
          },
          "metadata": {},
          "execution_count": 141
        }
      ]
    },
    {
      "cell_type": "code",
      "source": [
        "#  11. Write a class that overrides the `__str__` and `__add__` magic methods. What will these methods allow you to do?\n",
        "class overide:\n",
        "  def __init__(self , value1 , value2, name ):\n",
        "    self.value1 = value1\n",
        "    self.value2 = value2\n",
        "    self.name = name\n",
        "\n",
        "  def add(self):\n",
        "    return self.value1 + self.value2\n",
        "\n",
        "  def __str__(self):\n",
        "    return self.name\n",
        "\n",
        "\n",
        "class access(overide):\n",
        "    def __init__(self , value1 , value2, name ):\n",
        "     self.value1 = value1\n",
        "     self.value2 = value2\n",
        "     self.name = name\n",
        "\n",
        "    def add(self):\n",
        "      return self.value1 + self.value2\n",
        "\n",
        "    def __str__(self):\n",
        "      return self.name\n",
        "\n"
      ],
      "metadata": {
        "id": "rOoRvVUEiknY"
      },
      "execution_count": 157,
      "outputs": []
    },
    {
      "cell_type": "code",
      "source": [
        "obj = overide(10,12.4,'akki')"
      ],
      "metadata": {
        "id": "VNGVGwv0iklI"
      },
      "execution_count": 158,
      "outputs": []
    },
    {
      "cell_type": "code",
      "source": [
        "obj.add()"
      ],
      "metadata": {
        "colab": {
          "base_uri": "https://localhost:8080/"
        },
        "id": "E5IwML9eikjF",
        "outputId": "59f67867-4638-4f4d-8093-650bdfaeded6"
      },
      "execution_count": 159,
      "outputs": [
        {
          "output_type": "execute_result",
          "data": {
            "text/plain": [
              "22.4"
            ]
          },
          "metadata": {},
          "execution_count": 159
        }
      ]
    },
    {
      "cell_type": "code",
      "source": [
        "obj.__str__()"
      ],
      "metadata": {
        "colab": {
          "base_uri": "https://localhost:8080/",
          "height": 36
        },
        "id": "MaeJyjoXikg-",
        "outputId": "5f5146b7-4149-4728-ff65-00441e18ebb5"
      },
      "execution_count": 160,
      "outputs": [
        {
          "output_type": "execute_result",
          "data": {
            "text/plain": [
              "'akki'"
            ],
            "application/vnd.google.colaboratory.intrinsic+json": {
              "type": "string"
            }
          },
          "metadata": {},
          "execution_count": 160
        }
      ]
    },
    {
      "cell_type": "code",
      "source": [
        "obj = access(100, 20, 'salman khan')"
      ],
      "metadata": {
        "id": "6C_BdegPikeq"
      },
      "execution_count": 161,
      "outputs": []
    },
    {
      "cell_type": "code",
      "source": [
        "obj.add()"
      ],
      "metadata": {
        "colab": {
          "base_uri": "https://localhost:8080/"
        },
        "id": "5h3kxME1ikcm",
        "outputId": "9ad22818-d55c-4528-f882-78e7b49b444a"
      },
      "execution_count": 162,
      "outputs": [
        {
          "output_type": "execute_result",
          "data": {
            "text/plain": [
              "120"
            ]
          },
          "metadata": {},
          "execution_count": 162
        }
      ]
    },
    {
      "cell_type": "code",
      "source": [
        "obj.__str__()"
      ],
      "metadata": {
        "colab": {
          "base_uri": "https://localhost:8080/",
          "height": 36
        },
        "id": "vdO0gP-Pikaz",
        "outputId": "da99ce14-459c-44e5-b9d7-186a4069b26e"
      },
      "execution_count": 163,
      "outputs": [
        {
          "output_type": "execute_result",
          "data": {
            "text/plain": [
              "'salman khan'"
            ],
            "application/vnd.google.colaboratory.intrinsic+json": {
              "type": "string"
            }
          },
          "metadata": {},
          "execution_count": 163
        }
      ]
    },
    {
      "cell_type": "code",
      "source": [
        "# 13. Explain the concept of the Diamond Problem in multiple inheritance. How does Python resolve it?\n"
      ],
      "metadata": {
        "id": "Col1eMGdikYe"
      },
      "execution_count": null,
      "outputs": []
    },
    {
      "cell_type": "code",
      "source": [
        "'''\n",
        "theory :  when a common base class inherited by two two class and these two class inherited by fourth class, the ambiguiy problem arrise in other language like c++\n",
        "but not in python beacuse of MRO , which tells sequence to apprrach from multiple inherited class"
      ],
      "metadata": {
        "id": "SB2CoFce7tPo"
      },
      "execution_count": null,
      "outputs": []
    },
    {
      "cell_type": "code",
      "source": [
        "class A:\n",
        "  def method(self):\n",
        "    print(\"Method in A\")\n",
        "\n",
        "class B(A):\n",
        "  def method(self):\n",
        "    print(\"Method in B\")\n",
        "\n",
        "class C(A):\n",
        "  def method(self):\n",
        "    print(\"Method in C\")\n",
        "\n",
        "class D(B, C):\n",
        "  pass\n",
        "\n",
        "obj = D()\n",
        "obj.method() # Which method will be called?"
      ],
      "metadata": {
        "colab": {
          "base_uri": "https://localhost:8080/"
        },
        "id": "Yfk0vlhlikWb",
        "outputId": "710945d9-3afa-49e2-d4a4-81fef5f5021b"
      },
      "execution_count": 167,
      "outputs": [
        {
          "output_type": "stream",
          "name": "stdout",
          "text": [
            "Method in B\n"
          ]
        }
      ]
    },
    {
      "cell_type": "code",
      "source": [
        "print(D.__mro__)"
      ],
      "metadata": {
        "colab": {
          "base_uri": "https://localhost:8080/"
        },
        "id": "9_hbUWtNikUC",
        "outputId": "74596f11-f956-4151-e54c-71f863fb1b50"
      },
      "execution_count": 165,
      "outputs": [
        {
          "output_type": "stream",
          "name": "stdout",
          "text": [
            "(<class '__main__.D'>, <class '__main__.B'>, <class '__main__.C'>, <class '__main__.A'>, <class 'object'>)\n"
          ]
        }
      ]
    },
    {
      "cell_type": "code",
      "source": [],
      "metadata": {
        "id": "TcfHe8WPikSA"
      },
      "execution_count": null,
      "outputs": []
    },
    {
      "cell_type": "code",
      "source": [],
      "metadata": {
        "id": "OQD90nF4ikP3"
      },
      "execution_count": null,
      "outputs": []
    },
    {
      "cell_type": "code",
      "source": [],
      "metadata": {
        "id": "sRjotEFmikNh"
      },
      "execution_count": null,
      "outputs": []
    },
    {
      "cell_type": "code",
      "source": [],
      "metadata": {
        "id": "iKOdNM0XikLh"
      },
      "execution_count": null,
      "outputs": []
    },
    {
      "cell_type": "code",
      "source": [],
      "metadata": {
        "id": "K76bECH0ikJE"
      },
      "execution_count": null,
      "outputs": []
    },
    {
      "cell_type": "code",
      "source": [],
      "metadata": {
        "id": "wg1eASmlikGw"
      },
      "execution_count": null,
      "outputs": []
    },
    {
      "cell_type": "code",
      "source": [],
      "metadata": {
        "id": "yXmT1msnikEy"
      },
      "execution_count": null,
      "outputs": []
    },
    {
      "cell_type": "code",
      "source": [],
      "metadata": {
        "id": "b_dsUl9eikCq"
      },
      "execution_count": null,
      "outputs": []
    },
    {
      "cell_type": "code",
      "source": [],
      "metadata": {
        "id": "lGp6k8yBikAS"
      },
      "execution_count": null,
      "outputs": []
    },
    {
      "cell_type": "code",
      "source": [],
      "metadata": {
        "id": "oYDj2sT1ij94"
      },
      "execution_count": null,
      "outputs": []
    },
    {
      "cell_type": "code",
      "source": [],
      "metadata": {
        "id": "j1lydHTVij7r"
      },
      "execution_count": null,
      "outputs": []
    },
    {
      "cell_type": "code",
      "source": [],
      "metadata": {
        "id": "8hfAXuYxij5P"
      },
      "execution_count": null,
      "outputs": []
    },
    {
      "cell_type": "code",
      "source": [],
      "metadata": {
        "id": "J_HLZTeAij2x"
      },
      "execution_count": null,
      "outputs": []
    },
    {
      "cell_type": "code",
      "source": [],
      "metadata": {
        "id": "6-IRXR0Aij0R"
      },
      "execution_count": null,
      "outputs": []
    },
    {
      "cell_type": "code",
      "source": [],
      "metadata": {
        "id": "rP1efX_cijw9"
      },
      "execution_count": null,
      "outputs": []
    },
    {
      "cell_type": "code",
      "source": [],
      "metadata": {
        "id": "rG9AOxlJijuy"
      },
      "execution_count": null,
      "outputs": []
    },
    {
      "cell_type": "code",
      "source": [],
      "metadata": {
        "id": "NG8bGmSpijsf"
      },
      "execution_count": null,
      "outputs": []
    },
    {
      "cell_type": "code",
      "source": [],
      "metadata": {
        "id": "qcwjQqH1ijqW"
      },
      "execution_count": null,
      "outputs": []
    },
    {
      "cell_type": "code",
      "source": [],
      "metadata": {
        "id": "WMe0ST_uijn6"
      },
      "execution_count": null,
      "outputs": []
    },
    {
      "cell_type": "code",
      "source": [],
      "metadata": {
        "id": "vO2it4MHijl0"
      },
      "execution_count": null,
      "outputs": []
    },
    {
      "cell_type": "code",
      "source": [],
      "metadata": {
        "id": "rUeU17BSijjs"
      },
      "execution_count": null,
      "outputs": []
    },
    {
      "cell_type": "code",
      "source": [],
      "metadata": {
        "id": "-D-_zlbsijhg"
      },
      "execution_count": null,
      "outputs": []
    },
    {
      "cell_type": "code",
      "source": [],
      "metadata": {
        "id": "wvD-zamIijfL"
      },
      "execution_count": null,
      "outputs": []
    },
    {
      "cell_type": "code",
      "source": [],
      "metadata": {
        "id": "kc6YfdVTijdC"
      },
      "execution_count": null,
      "outputs": []
    },
    {
      "cell_type": "code",
      "source": [],
      "metadata": {
        "id": "zYIkI7hrijbB"
      },
      "execution_count": null,
      "outputs": []
    },
    {
      "cell_type": "code",
      "source": [],
      "metadata": {
        "id": "VBJpTKkMijZL"
      },
      "execution_count": null,
      "outputs": []
    },
    {
      "cell_type": "code",
      "source": [],
      "metadata": {
        "id": "ELFKOBxpijXF"
      },
      "execution_count": null,
      "outputs": []
    },
    {
      "cell_type": "code",
      "source": [],
      "metadata": {
        "id": "8M8EzRNuijUr"
      },
      "execution_count": null,
      "outputs": []
    },
    {
      "cell_type": "code",
      "source": [],
      "metadata": {
        "id": "y_GWbU_EijSp"
      },
      "execution_count": null,
      "outputs": []
    },
    {
      "cell_type": "code",
      "source": [],
      "metadata": {
        "id": "iHHoz-iSijQg"
      },
      "execution_count": null,
      "outputs": []
    },
    {
      "cell_type": "code",
      "source": [],
      "metadata": {
        "id": "yhkKzd-qijOh"
      },
      "execution_count": null,
      "outputs": []
    },
    {
      "cell_type": "code",
      "source": [],
      "metadata": {
        "id": "xv9W3iKLijMN"
      },
      "execution_count": null,
      "outputs": []
    },
    {
      "cell_type": "code",
      "source": [],
      "metadata": {
        "id": "Vyuohau2ijKC"
      },
      "execution_count": null,
      "outputs": []
    },
    {
      "cell_type": "code",
      "source": [],
      "metadata": {
        "id": "zC4inUnLijIJ"
      },
      "execution_count": null,
      "outputs": []
    },
    {
      "cell_type": "code",
      "source": [],
      "metadata": {
        "id": "tuuETuHeijGQ"
      },
      "execution_count": null,
      "outputs": []
    },
    {
      "cell_type": "code",
      "source": [],
      "metadata": {
        "id": "CkzRBAo0ijEF"
      },
      "execution_count": null,
      "outputs": []
    },
    {
      "cell_type": "code",
      "source": [],
      "metadata": {
        "id": "uA6QxJmpii-m"
      },
      "execution_count": null,
      "outputs": []
    }
  ]
}